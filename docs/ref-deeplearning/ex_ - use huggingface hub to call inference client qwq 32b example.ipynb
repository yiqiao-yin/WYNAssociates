{
  "nbformat": 4,
  "nbformat_minor": 0,
  "metadata": {
    "colab": {
      "provenance": []
    },
    "kernelspec": {
      "name": "python3",
      "display_name": "Python 3"
    },
    "language_info": {
      "name": "python"
    }
  },
  "cells": [
    {
      "cell_type": "code",
      "source": [
        "from google.colab import userdata\n",
        "HF_TOKEN = userdata.get('HF_TOKEN')"
      ],
      "metadata": {
        "id": "U_mFZbnVPW11"
      },
      "execution_count": 1,
      "outputs": []
    },
    {
      "cell_type": "code",
      "execution_count": 3,
      "metadata": {
        "colab": {
          "base_uri": "https://localhost:8080/"
        },
        "id": "YW3HWDa3PRLm",
        "outputId": "37a52a52-48fc-4733-edd8-0ed9b53e8613"
      },
      "outputs": [
        {
          "output_type": "stream",
          "name": "stdout",
          "text": [
            "ChatCompletionOutputMessage(role='assistant', content=\"The capital of France is Paris. France is a country in Western Europe, and Paris is not only its capital but also its largest city. It's known worldwide for its art, fashion, cuisine, and culture. The Eiffel Tower, Louvre Museum, and Notre-Dame Cathedral are some of the famous landmarks in Paris.France has a population of over 66 million people and is bordered by countries such as Belgium, Germany, Switzerland, Spain, and Italy. The country is known for its beautiful countryside, rich history, and contributions to art, science, and philosophy.rench culture is influential globally, and the French language is spoken in many parts of the world. France is a member of the European Union and uses the euro as its currency. The country is renowned for its wine, cheese, and culinary traditions, and it's a popular tourist destination.\", tool_calls=None)\n"
          ]
        }
      ],
      "source": [
        "from huggingface_hub import InferenceClient\n",
        "\n",
        "client = InferenceClient(\n",
        "\tprovider=\"hf-inference\",\n",
        "\tapi_key=HF_TOKEN\n",
        ")\n",
        "\n",
        "messages = [\n",
        "\t{\n",
        "\t\t\"role\": \"user\",\n",
        "\t\t\"content\": \"What is the capital of France?\"\n",
        "\t}\n",
        "]\n",
        "\n",
        "completion = client.chat.completions.create(\n",
        "    model=\"Qwen/QwQ-32B-Preview\",\n",
        "\tmessages=messages,\n",
        "\tmax_tokens=500,\n",
        ")\n",
        "\n",
        "print(completion.choices[0].message)"
      ]
    },
    {
      "cell_type": "code",
      "source": [
        "from huggingface_hub import InferenceClient\n",
        "\n",
        "class ChatBot:\n",
        "    def __init__(self, api_key: str, history: list = None):\n",
        "        \"\"\"Initialize the ChatBot with API key and an optional chat history.\n",
        "\n",
        "        Args:\n",
        "            api_key (str): The API key to access Hugging Face's inference API.\n",
        "            history (list, optional): Initial chat history as a list of message dictionaries.\n",
        "        \"\"\"\n",
        "        self.client = InferenceClient(provider=\"hf-inference\", api_key=api_key)\n",
        "        self.history = history if history is not None else []\n",
        "\n",
        "    def append_history(self, role: str, content: str):\n",
        "        \"\"\"Append a message to the chat history.\n",
        "\n",
        "        Args:\n",
        "            role (str): Role of the sender (e.g., 'user' or 'assistant').\n",
        "            content (str): Content of the message.\n",
        "        \"\"\"\n",
        "        self.history.append({\"role\": role, \"content\": content})\n",
        "\n",
        "    def invoke_api(self, model: str, max_tokens: int = 500):\n",
        "        \"\"\"Invoke the Hugging Face inference API to get a response based on the chat history.\n",
        "\n",
        "        Args:\n",
        "            model (str): Model ID to use for generating responses.\n",
        "            max_tokens (int, optional): Maximum number of tokens to generate.\n",
        "\n",
        "        Returns:\n",
        "            str: The generated message from the model.\n",
        "        \"\"\"\n",
        "        completion = self.client.chat.completions.create(\n",
        "            model=model,\n",
        "            messages=self.history,\n",
        "            max_tokens=max_tokens,\n",
        "        )\n",
        "        # Update history with the response\n",
        "        self.append_history(\"assistant\", completion.choices[0].message[\"content\"])\n",
        "        return completion.choices[0].message[\"content\"]\n",
        "\n",
        "    def get_history(self):\n",
        "        \"\"\"Prints the entire message history.\"\"\"\n",
        "        for message in self.history:\n",
        "            print(f\"{message['role']}: {message['content']}\")"
      ],
      "metadata": {
        "id": "J7Q-ltxDPd6h"
      },
      "execution_count": 4,
      "outputs": []
    },
    {
      "cell_type": "code",
      "source": [
        "# Example usage of the ChatBot class\n",
        "hf_token = HF_TOKEN\n",
        "chat_bot = ChatBot(api_key=hf_token)\n",
        "\n",
        "# Append initial user query to the history\n",
        "chat_bot.append_history(role=\"user\", content=\"What is the capital of France?\")"
      ],
      "metadata": {
        "id": "thnl961CQKyt"
      },
      "execution_count": 5,
      "outputs": []
    },
    {
      "cell_type": "code",
      "source": [
        "# Invoke the API to get a response\n",
        "model = \"Qwen/QwQ-32B-Preview\"\n",
        "response = chat_bot.invoke_api(model=model)\n",
        "print(\"Response from model:\", response)"
      ],
      "metadata": {
        "colab": {
          "base_uri": "https://localhost:8080/"
        },
        "id": "KFwmCWq2QOhM",
        "outputId": "0bece4c1-4aba-4040-9452-3ad41c89918e"
      },
      "execution_count": 6,
      "outputs": [
        {
          "output_type": "stream",
          "name": "stdout",
          "text": [
            "Response from model: The capital of France is Paris. France is a country in Western Europe, and Paris is not only its capital but also its largest city. It's known worldwide for its art, fashion, cuisine, and culture. The Eiffel Tower, Louvre Museum, and Notre-Dame Cathedral are some of the famous landmarks in Paris.France has a population of over 66 million people and is bordered by countries such as Belgium, Germany, Switzerland, Spain, and Italy. The country is known for its beautiful countryside, rich history, and contributions to art, science, and philosophy.rench culture is influential globally, and the French language is spoken in many parts of the world. France is a member of the European Union and uses the euro as its currency. The country is renowned for its wine, cheese, and culinary traditions, and it's a popular tourist destination.\n"
          ]
        }
      ]
    },
    {
      "cell_type": "code",
      "source": [
        "# Print the entire chat history\n",
        "chat_bot.get_history()"
      ],
      "metadata": {
        "colab": {
          "base_uri": "https://localhost:8080/"
        },
        "id": "7Zx2rMkTQPYu",
        "outputId": "5368d565-8812-4be3-ea22-bb22a44cf093"
      },
      "execution_count": 7,
      "outputs": [
        {
          "output_type": "stream",
          "name": "stdout",
          "text": [
            "user: What is the capital of France?\n",
            "assistant: The capital of France is Paris. France is a country in Western Europe, and Paris is not only its capital but also its largest city. It's known worldwide for its art, fashion, cuisine, and culture. The Eiffel Tower, Louvre Museum, and Notre-Dame Cathedral are some of the famous landmarks in Paris.France has a population of over 66 million people and is bordered by countries such as Belgium, Germany, Switzerland, Spain, and Italy. The country is known for its beautiful countryside, rich history, and contributions to art, science, and philosophy.rench culture is influential globally, and the French language is spoken in many parts of the world. France is a member of the European Union and uses the euro as its currency. The country is renowned for its wine, cheese, and culinary traditions, and it's a popular tourist destination.\n"
          ]
        }
      ]
    },
    {
      "cell_type": "code",
      "source": [
        "chat_bot = ChatBot(api_key=hf_token)\n",
        "model = \"Qwen/QwQ-32B-Preview\"\n",
        "\n",
        "while True:\n",
        "    user_input = input(\"👤 User: \")\n",
        "    if user_input.upper() in [\"EXIT\", \"QUIT\"]:\n",
        "        print(\"Exiting chat... 👋\")\n",
        "        break\n",
        "    chat_bot.append_history(role=\"user\", content=user_input)\n",
        "    response = chat_bot.invoke_api(model=model)\n",
        "    print(\"🤖 Assistant:\", response)\n"
      ],
      "metadata": {
        "colab": {
          "base_uri": "https://localhost:8080/"
        },
        "id": "syEsGZ0BQP_8",
        "outputId": "34e53b3f-cf59-4dcc-b223-41733ac20a99"
      },
      "execution_count": 8,
      "outputs": [
        {
          "output_type": "stream",
          "name": "stdout",
          "text": [
            "You: tell me a joke\n",
            "Assistant: Why did the mathematician name his dog \"Cauchy\"? Because he left a residue at every pole!\n",
            "You: What is 1+1\n",
            "Assistant: 1 + 1 equals 2. This is a fundamental concept in arithmetic, representing the sum of one unit and another unit, resulting in a total of two units. It's a basic principle that forms the foundation for more complex mathematical operations.\n",
            "You: EXIT\n",
            "Exiting chat...\n"
          ]
        }
      ]
    },
    {
      "cell_type": "code",
      "source": [],
      "metadata": {
        "id": "LCwzcTJQQnFE"
      },
      "execution_count": null,
      "outputs": []
    }
  ]
}