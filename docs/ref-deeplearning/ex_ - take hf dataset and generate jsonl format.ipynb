{
  "nbformat": 4,
  "nbformat_minor": 0,
  "metadata": {
    "colab": {
      "provenance": [],
      "machine_shape": "hm",
      "gpuType": "T4"
    },
    "kernelspec": {
      "name": "python3",
      "display_name": "Python 3"
    },
    "language_info": {
      "name": "python"
    },
    "accelerator": "GPU"
  },
  "cells": [
    {
      "cell_type": "code",
      "source": [
        "from datasets import load_dataset\n",
        "\n",
        "dataset = load_dataset('openai/gsm8k', 'main')['train']  # Loads the 'main' configuration\n",
        "dataset = dataset.select(range(100))  # Selects the first 100 samples from the dataset"
      ],
      "metadata": {
        "id": "MYMuu_c4_YYr"
      },
      "execution_count": 1,
      "outputs": []
    },
    {
      "cell_type": "code",
      "source": [
        "dataset"
      ],
      "metadata": {
        "colab": {
          "base_uri": "https://localhost:8080/"
        },
        "id": "Bf4W2o7t_91S",
        "outputId": "6e1ed82d-940c-4953-940f-49d8baae881e"
      },
      "execution_count": 4,
      "outputs": [
        {
          "output_type": "execute_result",
          "data": {
            "text/plain": [
              "Dataset({\n",
              "    features: ['question', 'answer'],\n",
              "    num_rows: 100\n",
              "})"
            ]
          },
          "metadata": {},
          "execution_count": 4
        }
      ]
    },
    {
      "cell_type": "code",
      "source": [
        "import json\n",
        "\n",
        "# Function to convert a dataset to JSONL format\n",
        "def convert_to_jsonl(dataset, filename):\n",
        "    with open(filename, 'w', encoding='utf-8') as f:\n",
        "        for item in dataset:\n",
        "            # Convert each item to a JSON string and write it to a file\n",
        "            json_record = json.dumps(item)\n",
        "            f.write(json_record + '\\n')"
      ],
      "metadata": {
        "id": "aFKrSrzK_PMI"
      },
      "execution_count": 2,
      "outputs": []
    },
    {
      "cell_type": "code",
      "source": [
        "# Specify the filename where you want to save the JSONL file\n",
        "filename = 'dataset.jsonl'\n",
        "\n",
        "# Convert the dataset and save it\n",
        "convert_to_jsonl(dataset, filename)\n",
        "\n",
        "print(f\"Dataset has been successfully converted to JSONL and saved as {filename}.\")"
      ],
      "metadata": {
        "colab": {
          "base_uri": "https://localhost:8080/"
        },
        "id": "x-Og52YT_gj7",
        "outputId": "96a35e7c-c6f0-48c1-ecce-595ae7c1d83d"
      },
      "execution_count": 3,
      "outputs": [
        {
          "output_type": "stream",
          "name": "stdout",
          "text": [
            "Dataset has been successfully converted to JSONL and saved as dataset.jsonl.\n"
          ]
        }
      ]
    },
    {
      "cell_type": "code",
      "source": [],
      "metadata": {
        "id": "xaNDfFWY_QeY"
      },
      "execution_count": null,
      "outputs": []
    }
  ]
}