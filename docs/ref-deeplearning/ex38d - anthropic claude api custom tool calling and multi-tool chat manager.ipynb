{
 "cells": [
  {
   "cell_type": "code",
   "execution_count": 2,
   "metadata": {
    "colab": {
     "base_uri": "https://localhost:8080/"
    },
    "executionInfo": {
     "elapsed": 10088,
     "status": "ok",
     "timestamp": 1751075086394,
     "user": {
      "displayName": "Yiqiao Yin",
      "userId": "16271867367914268422"
     },
     "user_tz": 240
    },
    "id": "8rdFqJ1uNS4K",
    "outputId": "36416dbe-42ae-4213-a6e3-bf4941043bfb"
   },
   "outputs": [
    {
     "name": "stdout",
     "output_type": "stream",
     "text": [
      "Collecting wikipedia\n",
      "  Downloading wikipedia-1.4.0.tar.gz (27 kB)\n",
      "  Preparing metadata (setup.py) ... \u001b[?25l\u001b[?25hdone\n",
      "Requirement already satisfied: beautifulsoup4 in /usr/local/lib/python3.11/dist-packages (from wikipedia) (4.13.4)\n",
      "Requirement already satisfied: requests<3.0.0,>=2.0.0 in /usr/local/lib/python3.11/dist-packages (from wikipedia) (2.32.3)\n",
      "Requirement already satisfied: charset-normalizer<4,>=2 in /usr/local/lib/python3.11/dist-packages (from requests<3.0.0,>=2.0.0->wikipedia) (3.4.2)\n",
      "Requirement already satisfied: idna<4,>=2.5 in /usr/local/lib/python3.11/dist-packages (from requests<3.0.0,>=2.0.0->wikipedia) (3.10)\n",
      "Requirement already satisfied: urllib3<3,>=1.21.1 in /usr/local/lib/python3.11/dist-packages (from requests<3.0.0,>=2.0.0->wikipedia) (2.4.0)\n",
      "Requirement already satisfied: certifi>=2017.4.17 in /usr/local/lib/python3.11/dist-packages (from requests<3.0.0,>=2.0.0->wikipedia) (2025.6.15)\n",
      "Requirement already satisfied: soupsieve>1.2 in /usr/local/lib/python3.11/dist-packages (from beautifulsoup4->wikipedia) (2.7)\n",
      "Requirement already satisfied: typing-extensions>=4.0.0 in /usr/local/lib/python3.11/dist-packages (from beautifulsoup4->wikipedia) (4.14.0)\n",
      "Building wheels for collected packages: wikipedia\n",
      "  Building wheel for wikipedia (setup.py) ... \u001b[?25l\u001b[?25hdone\n",
      "  Created wheel for wikipedia: filename=wikipedia-1.4.0-py3-none-any.whl size=11678 sha256=450e01d5a490fcf850553a97651a03d065313b62e9d91ac2018cbcfda9e28998\n",
      "  Stored in directory: /root/.cache/pip/wheels/8f/ab/cb/45ccc40522d3a1c41e1d2ad53b8f33a62f394011ec38cd71c6\n",
      "Successfully built wikipedia\n",
      "Installing collected packages: wikipedia\n",
      "Successfully installed wikipedia-1.4.0\n"
     ]
    }
   ],
   "source": [
    "pip install wikipedia"
   ]
  },
  {
   "cell_type": "code",
   "execution_count": 3,
   "metadata": {
    "executionInfo": {
     "elapsed": 609,
     "status": "ok",
     "timestamp": 1751075087011,
     "user": {
      "displayName": "Yiqiao Yin",
      "userId": "16271867367914268422"
     },
     "user_tz": 240
    },
    "id": "Sfg3B_4NNMMU"
   },
   "outputs": [],
   "source": [
    "import wikipedia\n",
    "\n",
    "def get_article(search_term):\n",
    "    results = wikipedia.search(search_term)\n",
    "    first_result = results[0]\n",
    "    page = wikipedia.page(first_result, auto_suggest=False)\n",
    "    return page.content\n"
   ]
  },
  {
   "cell_type": "code",
   "execution_count": 4,
   "metadata": {
    "colab": {
     "base_uri": "https://localhost:8080/"
    },
    "executionInfo": {
     "elapsed": 975,
     "status": "ok",
     "timestamp": 1751075087985,
     "user": {
      "displayName": "Yiqiao Yin",
      "userId": "16271867367914268422"
     },
     "user_tz": 240
    },
    "id": "EfdY5pGTNP3q",
    "outputId": "46f80f22-a96a-43f1-c41e-c8cf95d1404d"
   },
   "outputs": [
    {
     "name": "stdout",
     "output_type": "stream",
     "text": [
      "Superman is a superhero created by writer Jerry Siegel and artist Joe Shuster, which first appeared in the comic book Action Comics #1, published in the United States on April 18, 1938. Superman has been regularly published in American comic books since 1938, and has been adapted to other media including radio serials, novels, films, television shows, theater, and video games.\n",
      "Superman was born Kal-El, on the fictional planet Krypton. As a baby, his parents Jor-El and Lara sent him to Earth in a\n"
     ]
    }
   ],
   "source": [
    "article = get_article(\"Superman\")\n",
    "print(article[:500]) # article is very long, so let's just print a preview"
   ]
  },
  {
   "cell_type": "markdown",
   "metadata": {
    "id": "yzeJefKJNX3_"
   },
   "source": [
    "Next up, we need to define our tool using the proper JSON Schema format. This is a very simple tool definition because the function expects a single argument: the search term string."
   ]
  },
  {
   "cell_type": "code",
   "execution_count": 5,
   "metadata": {
    "executionInfo": {
     "elapsed": 42,
     "status": "ok",
     "timestamp": 1751075102689,
     "user": {
      "displayName": "Yiqiao Yin",
      "userId": "16271867367914268422"
     },
     "user_tz": 240
    },
    "id": "ak8fbIfaNUBO"
   },
   "outputs": [],
   "source": [
    "article_search_tool = {\n",
    "    \"name\": \"get_article\",\n",
    "    \"description\": \"A tool to retrieve an up to date Wikipedia article.\",\n",
    "    \"input_schema\": {\n",
    "        \"type\": \"object\",\n",
    "        \"properties\": {\n",
    "            \"search_term\": {\n",
    "                \"type\": \"string\",\n",
    "                \"description\": \"The search term to find a wikipedia article by title\"\n",
    "            },\n",
    "        },\n",
    "        \"required\": [\"search_term\"]\n",
    "    }\n",
    "}"
   ]
  },
  {
   "cell_type": "markdown",
   "metadata": {
    "id": "UQqRIShVNcDC"
   },
   "source": [
    "Next, we'll tell Claude it has access to the Wikipedia search tool and ask it to answer a question we know it cannot answer without the tool, like \"Who won the 2024 Masters Tournament?\""
   ]
  },
  {
   "cell_type": "code",
   "execution_count": 6,
   "metadata": {
    "colab": {
     "base_uri": "https://localhost:8080/"
    },
    "executionInfo": {
     "elapsed": 5797,
     "status": "ok",
     "timestamp": 1751075136908,
     "user": {
      "displayName": "Yiqiao Yin",
      "userId": "16271867367914268422"
     },
     "user_tz": 240
    },
    "id": "6KGQALiaNgqh",
    "outputId": "bfebeb2e-334f-4c48-dc3c-b1054e39ef0d"
   },
   "outputs": [
    {
     "name": "stdout",
     "output_type": "stream",
     "text": [
      "Collecting anthropic\n",
      "  Downloading anthropic-0.55.0-py3-none-any.whl.metadata (27 kB)\n",
      "Requirement already satisfied: anyio<5,>=3.5.0 in /usr/local/lib/python3.11/dist-packages (from anthropic) (4.9.0)\n",
      "Requirement already satisfied: distro<2,>=1.7.0 in /usr/local/lib/python3.11/dist-packages (from anthropic) (1.9.0)\n",
      "Requirement already satisfied: httpx<1,>=0.25.0 in /usr/local/lib/python3.11/dist-packages (from anthropic) (0.28.1)\n",
      "Requirement already satisfied: jiter<1,>=0.4.0 in /usr/local/lib/python3.11/dist-packages (from anthropic) (0.10.0)\n",
      "Requirement already satisfied: pydantic<3,>=1.9.0 in /usr/local/lib/python3.11/dist-packages (from anthropic) (2.11.7)\n",
      "Requirement already satisfied: sniffio in /usr/local/lib/python3.11/dist-packages (from anthropic) (1.3.1)\n",
      "Requirement already satisfied: typing-extensions<5,>=4.10 in /usr/local/lib/python3.11/dist-packages (from anthropic) (4.14.0)\n",
      "Requirement already satisfied: idna>=2.8 in /usr/local/lib/python3.11/dist-packages (from anyio<5,>=3.5.0->anthropic) (3.10)\n",
      "Requirement already satisfied: certifi in /usr/local/lib/python3.11/dist-packages (from httpx<1,>=0.25.0->anthropic) (2025.6.15)\n",
      "Requirement already satisfied: httpcore==1.* in /usr/local/lib/python3.11/dist-packages (from httpx<1,>=0.25.0->anthropic) (1.0.9)\n",
      "Requirement already satisfied: h11>=0.16 in /usr/local/lib/python3.11/dist-packages (from httpcore==1.*->httpx<1,>=0.25.0->anthropic) (0.16.0)\n",
      "Requirement already satisfied: annotated-types>=0.6.0 in /usr/local/lib/python3.11/dist-packages (from pydantic<3,>=1.9.0->anthropic) (0.7.0)\n",
      "Requirement already satisfied: pydantic-core==2.33.2 in /usr/local/lib/python3.11/dist-packages (from pydantic<3,>=1.9.0->anthropic) (2.33.2)\n",
      "Requirement already satisfied: typing-inspection>=0.4.0 in /usr/local/lib/python3.11/dist-packages (from pydantic<3,>=1.9.0->anthropic) (0.4.1)\n",
      "Downloading anthropic-0.55.0-py3-none-any.whl (289 kB)\n",
      "\u001b[2K   \u001b[90m━━━━━━━━━━━━━━━━━━━━━━━━━━━━━━━━━━━━━━━━\u001b[0m \u001b[32m289.3/289.3 kB\u001b[0m \u001b[31m16.2 MB/s\u001b[0m eta \u001b[36m0:00:00\u001b[0m\n",
      "\u001b[?25hInstalling collected packages: anthropic\n",
      "Successfully installed anthropic-0.55.0\n"
     ]
    }
   ],
   "source": [
    "pip install anthropic"
   ]
  },
  {
   "cell_type": "code",
   "execution_count": 7,
   "metadata": {
    "executionInfo": {
     "elapsed": 2644,
     "status": "ok",
     "timestamp": 1751075140371,
     "user": {
      "displayName": "Yiqiao Yin",
      "userId": "16271867367914268422"
     },
     "user_tz": 240
    },
    "id": "LUIXuRqjNiK0"
   },
   "outputs": [],
   "source": [
    "from google.colab import userdata\n",
    "CLAUDE_API_KEY = userdata.get('CLAUDE_API_KEY')"
   ]
  },
  {
   "cell_type": "code",
   "execution_count": 10,
   "metadata": {
    "executionInfo": {
     "elapsed": 3974,
     "status": "ok",
     "timestamp": 1751075179396,
     "user": {
      "displayName": "Yiqiao Yin",
      "userId": "16271867367914268422"
     },
     "user_tz": 240
    },
    "id": "8ogMchsDNZ8u"
   },
   "outputs": [],
   "source": [
    "from anthropic import Anthropic\n",
    "# from dotenv import load_dotenv\n",
    "\n",
    "# load_dotenv()\n",
    "\n",
    "client = Anthropic(api_key=CLAUDE_API_KEY)\n",
    "\n",
    "messages = [{\"role\": \"user\", \"content\": \"who won the 2024 Masters Tournament?\"}]\n",
    "\n",
    "response = client.messages.create(\n",
    "    model=\"claude-sonnet-4-20250514\",\n",
    "    messages=messages,\n",
    "    max_tokens=1000,\n",
    "    tools=[article_search_tool]\n",
    ")"
   ]
  },
  {
   "cell_type": "code",
   "execution_count": 11,
   "metadata": {
    "colab": {
     "base_uri": "https://localhost:8080/"
    },
    "executionInfo": {
     "elapsed": 6,
     "status": "ok",
     "timestamp": 1751075184437,
     "user": {
      "displayName": "Yiqiao Yin",
      "userId": "16271867367914268422"
     },
     "user_tz": 240
    },
    "id": "DdQLQPLGNmtB",
    "outputId": "ce071ee1-9496-41c2-ff6e-bd7b09f82819"
   },
   "outputs": [
    {
     "data": {
      "text/plain": [
       "[TextBlock(citations=None, text=\"I'll look up information about the 2024 Masters Tournament to find out who won.\", type='text'),\n",
       " ToolUseBlock(id='toolu_011q9FMgGTwwsPxPA5vm1sF3', input={'search_term': '2024 Masters Tournament'}, name='get_article', type='tool_use')]"
      ]
     },
     "execution_count": 11,
     "metadata": {},
     "output_type": "execute_result"
    }
   ],
   "source": [
    "response.content"
   ]
  },
  {
   "cell_type": "code",
   "execution_count": 12,
   "metadata": {
    "executionInfo": {
     "elapsed": 5,
     "status": "ok",
     "timestamp": 1751075259155,
     "user": {
      "displayName": "Yiqiao Yin",
      "userId": "16271867367914268422"
     },
     "user_tz": 240
    },
    "id": "AJzgwn02Nt6v"
   },
   "outputs": [],
   "source": [
    "messages.append({\"role\": \"assistant\", \"content\": response.content})"
   ]
  },
  {
   "cell_type": "code",
   "execution_count": 13,
   "metadata": {
    "colab": {
     "base_uri": "https://localhost:8080/"
    },
    "executionInfo": {
     "elapsed": 7,
     "status": "ok",
     "timestamp": 1751075261355,
     "user": {
      "displayName": "Yiqiao Yin",
      "userId": "16271867367914268422"
     },
     "user_tz": 240
    },
    "id": "09DqVnHUOAKC",
    "outputId": "fa81bb0d-eebe-4e3a-b5a9-62b7112a5b6e"
   },
   "outputs": [
    {
     "data": {
      "text/plain": [
       "[{'role': 'user', 'content': 'who won the 2024 Masters Tournament?'},\n",
       " {'role': 'assistant',\n",
       "  'content': [TextBlock(citations=None, text=\"I'll look up information about the 2024 Masters Tournament to find out who won.\", type='text'),\n",
       "   ToolUseBlock(id='toolu_011q9FMgGTwwsPxPA5vm1sF3', input={'search_term': '2024 Masters Tournament'}, name='get_article', type='tool_use')]}]"
      ]
     },
     "execution_count": 13,
     "metadata": {},
     "output_type": "execute_result"
    }
   ],
   "source": [
    "messages"
   ]
  },
  {
   "cell_type": "code",
   "execution_count": 14,
   "metadata": {
    "colab": {
     "base_uri": "https://localhost:8080/"
    },
    "executionInfo": {
     "elapsed": 7,
     "status": "ok",
     "timestamp": 1751075273605,
     "user": {
      "displayName": "Yiqiao Yin",
      "userId": "16271867367914268422"
     },
     "user_tz": 240
    },
    "id": "naRz7CqtOAsh",
    "outputId": "cb7fde91-b499-4b10-b764-5f1a5fb10112"
   },
   "outputs": [
    {
     "name": "stdout",
     "output_type": "stream",
     "text": [
      "Tool name:  get_article\n",
      "Tool input {'search_term': '2024 Masters Tournament'}\n"
     ]
    }
   ],
   "source": [
    "# This is a simple, but brittle way of getting the tool use information\n",
    "# We're simply taking the last block from Claude's response.\n",
    "tool_use = response.content[-1]\n",
    "tool_name = tool_use.name\n",
    "tool_input = tool_use.input\n",
    "print(\"Tool name: \", tool_name)\n",
    "print(\"Tool input\", tool_input)"
   ]
  },
  {
   "cell_type": "code",
   "execution_count": 15,
   "metadata": {
    "colab": {
     "base_uri": "https://localhost:8080/"
    },
    "executionInfo": {
     "elapsed": 741,
     "status": "ok",
     "timestamp": 1751075298201,
     "user": {
      "displayName": "Yiqiao Yin",
      "userId": "16271867367914268422"
     },
     "user_tz": 240
    },
    "id": "OkQoEF0YODr6",
    "outputId": "073679c5-2eb1-46ba-a177-ac002d6f7d70"
   },
   "outputs": [
    {
     "name": "stdout",
     "output_type": "stream",
     "text": [
      "Searching Wikipedia for 2024 Masters Tournament\n",
      "WIKIPEDIA PAGE CONTENT:\n",
      "The 2024 Masters Tournament was the 88th edition of the Masters Tournament and the first of the men's four major golf championships held in 2024. The tournament was played from April 11–14 at Augusta National Golf Club in Augusta, Georgia, United States. Scottie Scheffler won his second Masters and major, four strokes ahead of runner-up Ludvig Åberg, who was playing in his first major. Scheffler became the fourth-youngest two-time winner of the tournament and the second player, after Tiger Woods\n"
     ]
    }
   ],
   "source": [
    "if tool_name == \"get_article\":\n",
    "    search_term = tool_input[\"search_term\"]\n",
    "    wiki_result = get_article(search_term)\n",
    "    print(f\"Searching Wikipedia for {search_term}\")\n",
    "    print(\"WIKIPEDIA PAGE CONTENT:\")\n",
    "    print(wiki_result[:500]) #just printing a small bit of the article because it's so long"
   ]
  },
  {
   "cell_type": "code",
   "execution_count": 16,
   "metadata": {
    "executionInfo": {
     "elapsed": 4,
     "status": "ok",
     "timestamp": 1751075313179,
     "user": {
      "displayName": "Yiqiao Yin",
      "userId": "16271867367914268422"
     },
     "user_tz": 240
    },
    "id": "KDXj9WtZOJgw"
   },
   "outputs": [],
   "source": [
    "tool_response = {\n",
    "    \"role\": \"user\",\n",
    "    \"content\": [\n",
    "        {\n",
    "        \"type\": \"tool_result\",\n",
    "        \"tool_use_id\": tool_use.id,\n",
    "        \"content\": wiki_result\n",
    "        }\n",
    "    ]\n",
    "}"
   ]
  },
  {
   "cell_type": "code",
   "execution_count": 17,
   "metadata": {
    "colab": {
     "base_uri": "https://localhost:8080/"
    },
    "executionInfo": {
     "elapsed": 24,
     "status": "ok",
     "timestamp": 1751075320364,
     "user": {
      "displayName": "Yiqiao Yin",
      "userId": "16271867367914268422"
     },
     "user_tz": 240
    },
    "id": "motkOL2LONWP",
    "outputId": "00301bd2-881e-4604-b6d4-cea8e73201cc"
   },
   "outputs": [
    {
     "data": {
      "text/plain": [
       "{'role': 'user',\n",
       " 'content': [{'type': 'tool_result',\n",
       "   'tool_use_id': 'toolu_011q9FMgGTwwsPxPA5vm1sF3',\n",
       "   'content': \"The 2024 Masters Tournament was the 88th edition of the Masters Tournament and the first of the men's four major golf championships held in 2024. The tournament was played from April 11–14 at Augusta National Golf Club in Augusta, Georgia, United States. Scottie Scheffler won his second Masters and major, four strokes ahead of runner-up Ludvig Åberg, who was playing in his first major. Scheffler became the fourth-youngest two-time winner of the tournament and the second player, after Tiger Woods in 2001, to win both the Masters and The Players Championship in the same calendar year. \\n\\n\\n== Course ==\\n\\nThe only change to the course for the 2024 tournament was the lengthening of the second hole by ten yards.\\n\\n\\n== Field ==\\nParticipation in the Masters Tournament is by invitation only, and the tournament has the smallest field of the major championships. There are a number of criteria by which invitations are awarded, including all past winners, recent major champions, leading finishers in the previous year's majors, leading players on the PGA Tour in the previous season, winners of full-point tournaments on the PGA Tour during the previous 12 months, leading players in the Official World Golf Ranking, and some leading amateurs.\\n\\n\\n=== Criteria ===\\nThere were three changes to invitee criteria between the 2023 and 2024 tournaments. The first was to add the current NCAA Division I Men's Individual Champion a spot in the field, provided that he remains an amateur at the time of the tournament. In addition, Augusta National clarified that players who qualify for the Tour Championship must remain eligible to play in that event in order to qualify for the Masters. Also, with the PGA Tour returning to a calendar-year season schedule, Augusta National noted that winners of fall PGA Tour events would continue to qualify for the Masters.\\nThe below list details the qualification criteria for the 2024 Masters Tournament and the players who have qualified under them; any additional criteria under which players qualified are indicated in parentheses.\\n1. All past winners of the Masters Tournament\\n\\nPast winners who did not play: Tommy Aaron, Ángel Cabrera, Charles Coody, Ben Crenshaw, Nick Faldo, Raymond Floyd, Trevor Immelman, Bernhard Langer, Sandy Lyle, Larry Mize, Jack Nicklaus, Mark O'Meara, Gary Player, Craig Stadler, Tom Watson, Ian Woosnam, Fuzzy Zoeller\\n2. Recent winners of the U.S. Open (2019–2023)\\n\\n3. Recent winners of The Open Championship (2019–2023)\\n\\n4. Recent winners of the PGA Championship (2019–2023)\\n\\n5. Recent winners of The Players Championship (2022–2024)\\n6. The winner of the gold medal at the Olympic Games\\n7. The winner and runner-up in the 2023 U.S. Amateur\\n\\nNeal Shipley (a)\\n8. The winner of the 2023 Amateur Championship\\n\\nChristo Lamprecht (a)\\n9. The winner of the 2023 Asia-Pacific Amateur Championship\\n\\nJasper Stubbs (a)\\n10. The winner of the 2024 Latin America Amateur Championship\\n\\nSantiago de la Fuente (a)\\n11. The winner of the 2023 U.S. Mid-Amateur Golf Championship\\n\\nStewart Hagestad (a)\\n12. The winner of the 2023 NCAA Division I men's golf individual championship\\n\\nFred Biondi forfeited his invitation by turning professional.\\n13. The leading 12 players, and those tying for 12th place, from the 2023 Masters Tournament\\n\\n14. The leading four players, and those tying for fourth place, in the 2023 U.S. Open\\n\\nRory McIlroy (17,18,19,20)\\n15. The leading four players, and those tying for fourth place, in the 2023 Open Championship\\n\\n16. The leading four players, and those tying for fourth place, in the 2023 PGA Championship\\n\\n17. Winners of tournaments on the PGA Tour between the 2023 Masters Tournament and the 2024 Masters Tournament\\n\\n18. All players who qualified for and were eligible for the 2023 Tour Championship\\n\\n19. The leading 50 players on the Official World Golf Ranking as of December 31, 2023\\n\\n20. The leading 50 players on the Official World Golf Ranking as of April 1, 2024\\n\\nAn Byeong-hun\\n21. Special invitations\\n\\n\\n== Par-3 contest ==\\nWednesday, April 10\\nRickie Fowler won the par-3 contest with a score of 22 (−5). There were five holes-in-one recorded, by Sepp Straka, Luke List, Gary Woodland, Viktor Hovland, and Lucas Glover.\\n\\n\\n== Round summaries ==\\n\\n\\n=== First round ===\\nThursday, April 11, 2024Friday, April 12, 2024\\nInclement weather delayed the start of the tournament until 10:30 am Eastern time. As a result, 27 players did not complete the first round on Thursday.\\nThe 8th hole, a par 5, saw a record-breaking total of 53 par-breaking scores, including 50 birdies and 3 eagles, the highest ever recorded on this hole in Masters history. \\n\\n\\n=== Second round ===\\nFriday, April 12, 2024\\nBy making the cut, Tiger Woods set the record for most consecutive cuts made at the Masters, at 24. Phil Mickelson made the cut for the 28th time, surpassing Raymond Floyd and Bernhard Langer to move into solo fourth place for most cuts made at the Masters, trailing only Jack Nicklaus (37), Fred Couples (31) and Gary Player (30).\\nRookie Ludvig Åberg posted the lowest score of the round, a 69, and advanced to a solo 7th place.\\nBryson DeChambeau, before making a birdie on the 13th hole, moved a large directional sign that was in his line of play.\\nPatrick Cantlay achieved two eagles on par 4s, marking only the fourth instance in history that a player has recorded two par-4 eagles in a single Masters Tournament, the last being Brandt Jobe in 2006.\\nThe cut came at 150 (+6), with 60 players advancing to the weekend. Notables to miss the cut included 2015 champion Jordan Spieth, 2020 champion Dustin Johnson, reigning U.S. Open champion Wyndham Clark, Open champion Brian Harman, and World No. 6 Viktor Hovland. Two-time major champion Justin Thomas played his last four holes in seven-over to miss the cut by one shot.\\n\\n\\n=== Third round ===\\nSaturday, April 13, 2024\\nScottie Scheffler, beginning the round in a three-way tie for the lead, chipped in for birdie on the first hole. After a double bogey on the 10th, Scheffler holed a 31-foot eagle putt on the par-five 13th, the only eagle recorded on that hole during the round. He also birdied the 15th and 18th to finish at seven under following a 71 (−1) to take a one-shot lead into the final round.\\nCollin Morikawa birdied his first three holes in a three-under round of 69 and finished at six under, one shot back of Scheffler. Max Homa, tied for the lead at the start of the round, didn't make a birdie in a one-over 73 and fell two back at 5 under. Bryson DeChambeau was also atop the leaderboard to begin the round but hit his third shot in the water on the 15th and made double bogey. He holed out for birdie on the 18th to finish at three under and four shots back of Scheffler. Ludvig Åberg, making his Masters and major championship debut, was four under on his round until a bogey at the 14th. He then left his third shot on the 15th short and three-putted from just off the green for another bogey. He shot 70 (–2) and ended up at four under.\\nNicolai Højgaard moved into sole possession of the lead following a run of three straight birdies from holes 8 to 10, but he then made five straight bogeys including hitting into the water on both the 13th and 15th and finished at two under.\\nTiger Woods carded a 10-over-par 82 for the third round, his highest score ever in a major championship.\\nNo eagles were recorded on the par-5 15th hole through the first three rounds, marking only the second time in the past 50 years that No. 15 has failed to produce an eagle by this point in the tournament. Shane Lowry scored an eagle on the par-4 14th hole, marking the first eagle on this hole since Martin Kaymer in 2016.\\n\\n\\n=== Final round ===\\nSunday, April 14, 2024\\n\\nWorld No. 1 Scottie Scheffler shot a four-under 68 to win his second Masters title in the last three years by four shots over runner-up Ludvig Åberg.\\nScheffler began the round with a one-shot lead and birdied the third hole to go two shots ahead. He then bogeyed the fourth after hitting his tee shot over the green. Max Homa birdied the second, his first birdie in 34 holes, to get within one of the lead, while Åberg hit his approach on the seventh to four feet and made birdie to also get within one of the lead.\\nScheffler bogeyed the seventh to create a three-way tie with Åberg and Collin Morikawa at six under, while Homa joined the lead with a two-putt birdie at the par-five eighth. Both Scheffler and Morikawa birdied the eighth to get to seven under, while Åberg holed a 36-foot birdie putt on the ninth to again tie. Scheffler then hit his approach on the ninth to within a foot for another birdie to get to 8 under and again in sole possession of the lead going to the second nine.\\nAll three challengers then fell from contention. Morikawa hit his second shot on the ninth into a greenside bunker and couldn't advance on his third, ending up with a double bogey to fall three shots behind. He found the water on his approach at the 11th and made another double bogey. Åberg also hit into the water on the 11th for a double bogey. Homa got back within one with a close approach to the 10th, but his tee shot on the 12th flew over the green into the bushes and he was forced to take a drop. He made a double bogey on the hole to fall three shots behind.\\nScheffler birdied the 10th, his third birdie in a row, to get to nine under and open a two-shot lead. Despite a bogey on the 11th, Scheffler two-putted for birdie at the par-five 13th and hit his second shot on the 14th to within four feet for another birdie to reach 10 under. He then made a nine-foot birdie putt on the par-three 16th to get to 11 under. Pars on his final two holes allowed him to close out the tournament with a four-shot victory.\\nÅberg birdied the 13th and 14th to get back to seven under and finish four back of Scheffler in his Masters and major championship debut. Morikawa and Homa both finished at four under for the tournament, in a tie for third place along with Tommy Fleetwood.\\n\\n\\n==== Scorecard ====\\n\\nCumulative tournament scores, relative to par\\n\\nSource:\\n\\n\\n== Notes ==\\n\\n\\n== References ==\\n\\n\\n== External links ==\\nOfficial website\"}]}"
      ]
     },
     "execution_count": 17,
     "metadata": {},
     "output_type": "execute_result"
    }
   ],
   "source": [
    "tool_response"
   ]
  },
  {
   "cell_type": "code",
   "execution_count": 18,
   "metadata": {
    "executionInfo": {
     "elapsed": 45,
     "status": "ok",
     "timestamp": 1751075337818,
     "user": {
      "displayName": "Yiqiao Yin",
      "userId": "16271867367914268422"
     },
     "user_tz": 240
    },
    "id": "vatV6wUDOPGU"
   },
   "outputs": [],
   "source": [
    "messages.append(tool_response)"
   ]
  },
  {
   "cell_type": "code",
   "execution_count": 19,
   "metadata": {
    "colab": {
     "base_uri": "https://localhost:8080/"
    },
    "executionInfo": {
     "elapsed": 35,
     "status": "ok",
     "timestamp": 1751075339888,
     "user": {
      "displayName": "Yiqiao Yin",
      "userId": "16271867367914268422"
     },
     "user_tz": 240
    },
    "id": "bZy2Rf8lOTWn",
    "outputId": "8f236188-bb99-43b9-b90f-e86a0d920a62"
   },
   "outputs": [
    {
     "data": {
      "text/plain": [
       "[{'role': 'user', 'content': 'who won the 2024 Masters Tournament?'},\n",
       " {'role': 'assistant',\n",
       "  'content': [TextBlock(citations=None, text=\"I'll look up information about the 2024 Masters Tournament to find out who won.\", type='text'),\n",
       "   ToolUseBlock(id='toolu_011q9FMgGTwwsPxPA5vm1sF3', input={'search_term': '2024 Masters Tournament'}, name='get_article', type='tool_use')]},\n",
       " {'role': 'user',\n",
       "  'content': [{'type': 'tool_result',\n",
       "    'tool_use_id': 'toolu_011q9FMgGTwwsPxPA5vm1sF3',\n",
       "    'content': \"The 2024 Masters Tournament was the 88th edition of the Masters Tournament and the first of the men's four major golf championships held in 2024. The tournament was played from April 11–14 at Augusta National Golf Club in Augusta, Georgia, United States. Scottie Scheffler won his second Masters and major, four strokes ahead of runner-up Ludvig Åberg, who was playing in his first major. Scheffler became the fourth-youngest two-time winner of the tournament and the second player, after Tiger Woods in 2001, to win both the Masters and The Players Championship in the same calendar year. \\n\\n\\n== Course ==\\n\\nThe only change to the course for the 2024 tournament was the lengthening of the second hole by ten yards.\\n\\n\\n== Field ==\\nParticipation in the Masters Tournament is by invitation only, and the tournament has the smallest field of the major championships. There are a number of criteria by which invitations are awarded, including all past winners, recent major champions, leading finishers in the previous year's majors, leading players on the PGA Tour in the previous season, winners of full-point tournaments on the PGA Tour during the previous 12 months, leading players in the Official World Golf Ranking, and some leading amateurs.\\n\\n\\n=== Criteria ===\\nThere were three changes to invitee criteria between the 2023 and 2024 tournaments. The first was to add the current NCAA Division I Men's Individual Champion a spot in the field, provided that he remains an amateur at the time of the tournament. In addition, Augusta National clarified that players who qualify for the Tour Championship must remain eligible to play in that event in order to qualify for the Masters. Also, with the PGA Tour returning to a calendar-year season schedule, Augusta National noted that winners of fall PGA Tour events would continue to qualify for the Masters.\\nThe below list details the qualification criteria for the 2024 Masters Tournament and the players who have qualified under them; any additional criteria under which players qualified are indicated in parentheses.\\n1. All past winners of the Masters Tournament\\n\\nPast winners who did not play: Tommy Aaron, Ángel Cabrera, Charles Coody, Ben Crenshaw, Nick Faldo, Raymond Floyd, Trevor Immelman, Bernhard Langer, Sandy Lyle, Larry Mize, Jack Nicklaus, Mark O'Meara, Gary Player, Craig Stadler, Tom Watson, Ian Woosnam, Fuzzy Zoeller\\n2. Recent winners of the U.S. Open (2019–2023)\\n\\n3. Recent winners of The Open Championship (2019–2023)\\n\\n4. Recent winners of the PGA Championship (2019–2023)\\n\\n5. Recent winners of The Players Championship (2022–2024)\\n6. The winner of the gold medal at the Olympic Games\\n7. The winner and runner-up in the 2023 U.S. Amateur\\n\\nNeal Shipley (a)\\n8. The winner of the 2023 Amateur Championship\\n\\nChristo Lamprecht (a)\\n9. The winner of the 2023 Asia-Pacific Amateur Championship\\n\\nJasper Stubbs (a)\\n10. The winner of the 2024 Latin America Amateur Championship\\n\\nSantiago de la Fuente (a)\\n11. The winner of the 2023 U.S. Mid-Amateur Golf Championship\\n\\nStewart Hagestad (a)\\n12. The winner of the 2023 NCAA Division I men's golf individual championship\\n\\nFred Biondi forfeited his invitation by turning professional.\\n13. The leading 12 players, and those tying for 12th place, from the 2023 Masters Tournament\\n\\n14. The leading four players, and those tying for fourth place, in the 2023 U.S. Open\\n\\nRory McIlroy (17,18,19,20)\\n15. The leading four players, and those tying for fourth place, in the 2023 Open Championship\\n\\n16. The leading four players, and those tying for fourth place, in the 2023 PGA Championship\\n\\n17. Winners of tournaments on the PGA Tour between the 2023 Masters Tournament and the 2024 Masters Tournament\\n\\n18. All players who qualified for and were eligible for the 2023 Tour Championship\\n\\n19. The leading 50 players on the Official World Golf Ranking as of December 31, 2023\\n\\n20. The leading 50 players on the Official World Golf Ranking as of April 1, 2024\\n\\nAn Byeong-hun\\n21. Special invitations\\n\\n\\n== Par-3 contest ==\\nWednesday, April 10\\nRickie Fowler won the par-3 contest with a score of 22 (−5). There were five holes-in-one recorded, by Sepp Straka, Luke List, Gary Woodland, Viktor Hovland, and Lucas Glover.\\n\\n\\n== Round summaries ==\\n\\n\\n=== First round ===\\nThursday, April 11, 2024Friday, April 12, 2024\\nInclement weather delayed the start of the tournament until 10:30 am Eastern time. As a result, 27 players did not complete the first round on Thursday.\\nThe 8th hole, a par 5, saw a record-breaking total of 53 par-breaking scores, including 50 birdies and 3 eagles, the highest ever recorded on this hole in Masters history. \\n\\n\\n=== Second round ===\\nFriday, April 12, 2024\\nBy making the cut, Tiger Woods set the record for most consecutive cuts made at the Masters, at 24. Phil Mickelson made the cut for the 28th time, surpassing Raymond Floyd and Bernhard Langer to move into solo fourth place for most cuts made at the Masters, trailing only Jack Nicklaus (37), Fred Couples (31) and Gary Player (30).\\nRookie Ludvig Åberg posted the lowest score of the round, a 69, and advanced to a solo 7th place.\\nBryson DeChambeau, before making a birdie on the 13th hole, moved a large directional sign that was in his line of play.\\nPatrick Cantlay achieved two eagles on par 4s, marking only the fourth instance in history that a player has recorded two par-4 eagles in a single Masters Tournament, the last being Brandt Jobe in 2006.\\nThe cut came at 150 (+6), with 60 players advancing to the weekend. Notables to miss the cut included 2015 champion Jordan Spieth, 2020 champion Dustin Johnson, reigning U.S. Open champion Wyndham Clark, Open champion Brian Harman, and World No. 6 Viktor Hovland. Two-time major champion Justin Thomas played his last four holes in seven-over to miss the cut by one shot.\\n\\n\\n=== Third round ===\\nSaturday, April 13, 2024\\nScottie Scheffler, beginning the round in a three-way tie for the lead, chipped in for birdie on the first hole. After a double bogey on the 10th, Scheffler holed a 31-foot eagle putt on the par-five 13th, the only eagle recorded on that hole during the round. He also birdied the 15th and 18th to finish at seven under following a 71 (−1) to take a one-shot lead into the final round.\\nCollin Morikawa birdied his first three holes in a three-under round of 69 and finished at six under, one shot back of Scheffler. Max Homa, tied for the lead at the start of the round, didn't make a birdie in a one-over 73 and fell two back at 5 under. Bryson DeChambeau was also atop the leaderboard to begin the round but hit his third shot in the water on the 15th and made double bogey. He holed out for birdie on the 18th to finish at three under and four shots back of Scheffler. Ludvig Åberg, making his Masters and major championship debut, was four under on his round until a bogey at the 14th. He then left his third shot on the 15th short and three-putted from just off the green for another bogey. He shot 70 (–2) and ended up at four under.\\nNicolai Højgaard moved into sole possession of the lead following a run of three straight birdies from holes 8 to 10, but he then made five straight bogeys including hitting into the water on both the 13th and 15th and finished at two under.\\nTiger Woods carded a 10-over-par 82 for the third round, his highest score ever in a major championship.\\nNo eagles were recorded on the par-5 15th hole through the first three rounds, marking only the second time in the past 50 years that No. 15 has failed to produce an eagle by this point in the tournament. Shane Lowry scored an eagle on the par-4 14th hole, marking the first eagle on this hole since Martin Kaymer in 2016.\\n\\n\\n=== Final round ===\\nSunday, April 14, 2024\\n\\nWorld No. 1 Scottie Scheffler shot a four-under 68 to win his second Masters title in the last three years by four shots over runner-up Ludvig Åberg.\\nScheffler began the round with a one-shot lead and birdied the third hole to go two shots ahead. He then bogeyed the fourth after hitting his tee shot over the green. Max Homa birdied the second, his first birdie in 34 holes, to get within one of the lead, while Åberg hit his approach on the seventh to four feet and made birdie to also get within one of the lead.\\nScheffler bogeyed the seventh to create a three-way tie with Åberg and Collin Morikawa at six under, while Homa joined the lead with a two-putt birdie at the par-five eighth. Both Scheffler and Morikawa birdied the eighth to get to seven under, while Åberg holed a 36-foot birdie putt on the ninth to again tie. Scheffler then hit his approach on the ninth to within a foot for another birdie to get to 8 under and again in sole possession of the lead going to the second nine.\\nAll three challengers then fell from contention. Morikawa hit his second shot on the ninth into a greenside bunker and couldn't advance on his third, ending up with a double bogey to fall three shots behind. He found the water on his approach at the 11th and made another double bogey. Åberg also hit into the water on the 11th for a double bogey. Homa got back within one with a close approach to the 10th, but his tee shot on the 12th flew over the green into the bushes and he was forced to take a drop. He made a double bogey on the hole to fall three shots behind.\\nScheffler birdied the 10th, his third birdie in a row, to get to nine under and open a two-shot lead. Despite a bogey on the 11th, Scheffler two-putted for birdie at the par-five 13th and hit his second shot on the 14th to within four feet for another birdie to reach 10 under. He then made a nine-foot birdie putt on the par-three 16th to get to 11 under. Pars on his final two holes allowed him to close out the tournament with a four-shot victory.\\nÅberg birdied the 13th and 14th to get back to seven under and finish four back of Scheffler in his Masters and major championship debut. Morikawa and Homa both finished at four under for the tournament, in a tie for third place along with Tommy Fleetwood.\\n\\n\\n==== Scorecard ====\\n\\nCumulative tournament scores, relative to par\\n\\nSource:\\n\\n\\n== Notes ==\\n\\n\\n== References ==\\n\\n\\n== External links ==\\nOfficial website\"}]}]"
      ]
     },
     "execution_count": 19,
     "metadata": {},
     "output_type": "execute_result"
    }
   ],
   "source": [
    "messages"
   ]
  },
  {
   "cell_type": "code",
   "execution_count": 20,
   "metadata": {
    "colab": {
     "base_uri": "https://localhost:8080/"
    },
    "executionInfo": {
     "elapsed": 3677,
     "status": "ok",
     "timestamp": 1751075353492,
     "user": {
      "displayName": "Yiqiao Yin",
      "userId": "16271867367914268422"
     },
     "user_tz": 240
    },
    "id": "4ILanjVwOT3J",
    "outputId": "16d51098-8ec5-466a-ac6a-46f76242a884"
   },
   "outputs": [
    {
     "name": "stderr",
     "output_type": "stream",
     "text": [
      "/tmp/ipython-input-20-267033875.py:1: DeprecationWarning: The model 'claude-3-sonnet-20240229' is deprecated and will reach end-of-life on July 21st, 2025.\n",
      "Please migrate to a newer model. Visit https://docs.anthropic.com/en/docs/resources/model-deprecations for more information.\n",
      "  follow_up_response = client.messages.create(\n"
     ]
    }
   ],
   "source": [
    "follow_up_response = client.messages.create(\n",
    "    model=\"claude-3-sonnet-20240229\",\n",
    "    messages=messages,\n",
    "    max_tokens=1000,\n",
    "    tools=[article_search_tool]\n",
    ")"
   ]
  },
  {
   "cell_type": "code",
   "execution_count": 21,
   "metadata": {
    "colab": {
     "base_uri": "https://localhost:8080/",
     "height": 53
    },
    "executionInfo": {
     "elapsed": 5,
     "status": "ok",
     "timestamp": 1751075356618,
     "user": {
      "displayName": "Yiqiao Yin",
      "userId": "16271867367914268422"
     },
     "user_tz": 240
    },
    "id": "Y4kAo6nBOWSt",
    "outputId": "518f63ad-6049-4002-bd4b-34b4519fa7d8"
   },
   "outputs": [
    {
     "data": {
      "application/vnd.google.colaboratory.intrinsic+json": {
       "type": "string"
      },
      "text/plain": [
       "'Based on the Wikipedia article, Scottie Scheffler won the 2024 Masters Tournament, his second Masters title. He shot a final round 68 to win by 4 strokes over runner-up Ludvig Åberg, who was making his Masters debut. Scheffler became the fourth-youngest two-time Masters winner, and also won The Players Championship earlier in 2024, becoming just the second player after Tiger Woods in 2001 to win both events in the same year.'"
      ]
     },
     "execution_count": 21,
     "metadata": {},
     "output_type": "execute_result"
    }
   ],
   "source": [
    "follow_up_response.content[0].text"
   ]
  },
  {
   "cell_type": "code",
   "execution_count": 26,
   "metadata": {
    "executionInfo": {
     "elapsed": 25,
     "status": "ok",
     "timestamp": 1751075609854,
     "user": {
      "displayName": "Yiqiao Yin",
      "userId": "16271867367914268422"
     },
     "user_tz": 240
    },
    "id": "t8eyr-yxOX9D"
   },
   "outputs": [],
   "source": [
    "\"\"\"\n",
    "Module for answering questions using Claude API with article search tool.\n",
    "\n",
    "This module provides functionality to interact with Claude's API to answer questions,\n",
    "with the ability to search for and retrieve Wikipedia articles when needed.\n",
    "\"\"\"\n",
    "\n",
    "from typing import List, Dict, Any, Optional\n",
    "\n",
    "\n",
    "def answer_question(question: str) -> None:\n",
    "    \"\"\"\n",
    "    Answer a question using Claude API with optional article search tool.\n",
    "\n",
    "    This function sends a question to Claude's API and handles tool use requests\n",
    "    for article searches. If Claude requests to search for an article, the function\n",
    "    retrieves the Wikipedia content and provides it back to Claude for a final answer.\n",
    "\n",
    "    Args:\n",
    "        question (str): The question to be answered by Claude.\n",
    "\n",
    "    Returns:\n",
    "        None: The function prints the response directly to stdout.\n",
    "\n",
    "    Raises:\n",
    "        AttributeError: If the response object doesn't have expected attributes.\n",
    "        KeyError: If expected keys are missing from the tool input.\n",
    "        IndexError: If the response content list is empty.\n",
    "    \"\"\"\n",
    "    # Initialize the conversation with the user's question\n",
    "    messages: List[Dict[str, Any]] = [{\"role\": \"user\", \"content\": question}]\n",
    "\n",
    "    # Send the initial request to Claude with tool availability\n",
    "    response = client.messages.create(\n",
    "        model=\"claude-sonnet-4-20250514\",\n",
    "        messages=messages,\n",
    "        max_tokens=1000,\n",
    "        tools=[article_search_tool]\n",
    "    )\n",
    "\n",
    "    # Check if Claude wants to use the article search tool\n",
    "    if response.stop_reason == \"tool_use\":\n",
    "        # Extract tool use information from Claude's response\n",
    "        tool_use = response.content[-1]  # Get the last content item (tool use)\n",
    "        tool_name: str = tool_use.name\n",
    "        tool_input: Dict[str, Any] = tool_use.input\n",
    "\n",
    "        # Add Claude's tool use request to the conversation history\n",
    "        messages.append({\"role\": \"assistant\", \"content\": response.content})\n",
    "\n",
    "        # Handle the article search tool specifically\n",
    "        if tool_name == \"get_article\":\n",
    "            # Extract the search term from the tool input\n",
    "            search_term: str = tool_input[\"search_term\"]\n",
    "            print(f\"Claude wants to get an article for {search_term}\")\n",
    "\n",
    "            # Retrieve the Wikipedia article content\n",
    "            wiki_result: str = get_article(search_term)\n",
    "\n",
    "            # Construct the tool result message to send back to Claude\n",
    "            tool_response: Dict[str, Any] = {\n",
    "                \"role\": \"user\",\n",
    "                \"content\": [\n",
    "                    {\n",
    "                        \"type\": \"tool_result\",\n",
    "                        \"tool_use_id\": tool_use.id,  # Match the tool use ID\n",
    "                        \"content\": wiki_result\n",
    "                    }\n",
    "                ]\n",
    "            }\n",
    "\n",
    "            # Add the tool result to the conversation history\n",
    "            messages.append(tool_response)\n",
    "\n",
    "            # Send the tool result back to Claude for final processing\n",
    "            response = client.messages.create(\n",
    "                model=\"claude-3-sonnet-20240229\",\n",
    "                messages=messages,\n",
    "                max_tokens=1000,\n",
    "                tools=[article_search_tool]\n",
    "            )\n",
    "\n",
    "            # Display Claude's final answer after processing the article\n",
    "            print(\"Claude's final answer:\")\n",
    "            print(response.content[0].text)\n",
    "\n",
    "    else:\n",
    "        # Claude answered directly without needing to search for articles\n",
    "        print(\"Claude did not call our tool\")\n",
    "        print(response.content[0].text)"
   ]
  },
  {
   "cell_type": "code",
   "execution_count": 27,
   "metadata": {
    "colab": {
     "base_uri": "https://localhost:8080/"
    },
    "executionInfo": {
     "elapsed": 7451,
     "status": "ok",
     "timestamp": 1751075619032,
     "user": {
      "displayName": "Yiqiao Yin",
      "userId": "16271867367914268422"
     },
     "user_tz": 240
    },
    "id": "zS-qNZ6PO8u2",
    "outputId": "18dd6585-935b-41c6-99ca-23f427b9ce83"
   },
   "outputs": [
    {
     "name": "stdout",
     "output_type": "stream",
     "text": [
      "Claude wants to get an article for 2024 Australian Grand Prix\n"
     ]
    },
    {
     "name": "stderr",
     "output_type": "stream",
     "text": [
      "/tmp/ipython-input-26-2926702251.py:76: DeprecationWarning: The model 'claude-3-sonnet-20240229' is deprecated and will reach end-of-life on July 21st, 2025.\n",
      "Please migrate to a newer model. Visit https://docs.anthropic.com/en/docs/resources/model-deprecations for more information.\n",
      "  response = client.messages.create(\n"
     ]
    },
    {
     "name": "stdout",
     "output_type": "stream",
     "text": [
      "Claude's final answer:\n",
      "Based on the Wikipedia article summary, Carlos Sainz Jr. of Ferrari won the 2024 Australian Grand Prix, with his teammate Charles Leclerc finishing second. It was Sainz's first win of the 2024 season after undergoing an appendectomy prior to the previous race in Saudi Arabia. Lando Norris secured his 14th career podium with a 3rd place finish, surpassing Nick Heidfeld's record for most podiums without a win. The race saw a high attrition rate, with Max Verstappen retiring early due to brake failure after starting on pole, ending his streak of 9 consecutive wins. The event set a new attendance record at Albert Park.\n"
     ]
    }
   ],
   "source": [
    "answer_question(\"Who won the 2024 F1 Australian Grand Prix\")"
   ]
  },
  {
   "cell_type": "code",
   "execution_count": 28,
   "metadata": {
    "executionInfo": {
     "elapsed": 21,
     "status": "ok",
     "timestamp": 1751076062815,
     "user": {
      "displayName": "Yiqiao Yin",
      "userId": "16271867367914268422"
     },
     "user_tz": 240
    },
    "id": "3d6IHTm-O9PN"
   },
   "outputs": [],
   "source": [
    "\"\"\"\n",
    "Module for managing conversations with Claude API using tool-enabled chat sessions.\n",
    "\n",
    "This module provides a class-based interface for interacting with Claude's API,\n",
    "maintaining conversation history, and handling tool use requests dynamically.\n",
    "\"\"\"\n",
    "\n",
    "from typing import List, Dict, Any, Optional, Callable\n",
    "from abc import ABC, abstractmethod\n",
    "\n",
    "\n",
    "class ToolHandler(ABC):\n",
    "    \"\"\"Abstract base class for tool handlers.\"\"\"\n",
    "\n",
    "    @abstractmethod\n",
    "    def handle(self, tool_input: Dict[str, Any]) -> str:\n",
    "        \"\"\"\n",
    "        Handle the tool execution.\n",
    "\n",
    "        Args:\n",
    "            tool_input: The input parameters for the tool.\n",
    "\n",
    "        Returns:\n",
    "            str: The result of the tool execution.\n",
    "        \"\"\"\n",
    "\n",
    "\n",
    "class ArticleSearchHandler(ToolHandler):\n",
    "    \"\"\"Handler for article search tool.\"\"\"\n",
    "\n",
    "    def __init__(self, get_article_func: Callable[[str], str]):\n",
    "        \"\"\"\n",
    "        Initialize the article search handler.\n",
    "\n",
    "        Args:\n",
    "            get_article_func: Function to retrieve articles by search term.\n",
    "        \"\"\"\n",
    "        self.get_article_func = get_article_func\n",
    "\n",
    "    def handle(self, tool_input: Dict[str, Any]) -> str:\n",
    "        \"\"\"\n",
    "        Handle article search requests.\n",
    "\n",
    "        Args:\n",
    "            tool_input: Dictionary containing 'search_term' key.\n",
    "\n",
    "        Returns:\n",
    "            str: The retrieved article content.\n",
    "\n",
    "        Raises:\n",
    "            KeyError: If 'search_term' is missing from tool_input.\n",
    "        \"\"\"\n",
    "        search_term = tool_input[\"search_term\"]\n",
    "        return self.get_article_func(search_term)\n",
    "\n",
    "\n",
    "class ClaudeChatManager:\n",
    "    \"\"\"\n",
    "    Manager class for handling conversations with Claude API using tools.\n",
    "\n",
    "    This class maintains conversation history, handles tool use requests,\n",
    "    and provides a clean interface for interacting with Claude's API.\n",
    "    \"\"\"\n",
    "\n",
    "    def __init__(\n",
    "        self,\n",
    "        client: Any,\n",
    "        model: str = \"claude-sonnet-4-20250514\",\n",
    "        max_tokens: int = 1000,\n",
    "        tools: Optional[List[Dict[str, Any]]] = None\n",
    "    ):\n",
    "        \"\"\"\n",
    "        Initialize the Claude chat manager.\n",
    "\n",
    "        Args:\n",
    "            client: The Claude API client instance.\n",
    "            model: The Claude model to use for conversations.\n",
    "            max_tokens: Maximum tokens for each API response.\n",
    "            tools: List of tool definitions available to Claude.\n",
    "        \"\"\"\n",
    "        self.client = client\n",
    "        self.model = model\n",
    "        self.max_tokens = max_tokens\n",
    "        self.tools = tools or []\n",
    "        self.messages: List[Dict[str, Any]] = []\n",
    "        self.tool_handlers: Dict[str, ToolHandler] = {}\n",
    "\n",
    "    def register_tool_handler(self, tool_name: str, handler: ToolHandler) -> None:\n",
    "        \"\"\"\n",
    "        Register a handler for a specific tool.\n",
    "\n",
    "        Args:\n",
    "            tool_name: The name of the tool to handle.\n",
    "            handler: The ToolHandler instance to process this tool.\n",
    "        \"\"\"\n",
    "        self.tool_handlers[tool_name] = handler\n",
    "\n",
    "    def get_history(self) -> List[Dict[str, Any]]:\n",
    "        \"\"\"\n",
    "        Get the complete conversation history.\n",
    "\n",
    "        Returns:\n",
    "            List[Dict[str, Any]]: A copy of the current conversation history.\n",
    "        \"\"\"\n",
    "        return self.messages.copy()\n",
    "\n",
    "    def append_to_history(self, message: Dict[str, Any]) -> None:\n",
    "        \"\"\"\n",
    "        Append a message to the conversation history.\n",
    "\n",
    "        Args:\n",
    "            message: The message dictionary to add to history.\n",
    "\n",
    "        Raises:\n",
    "            ValueError: If the message doesn't have required 'role' key.\n",
    "        \"\"\"\n",
    "        if \"role\" not in message:\n",
    "            raise ValueError(\"Message must contain 'role' key\")\n",
    "\n",
    "        self.messages.append(message)\n",
    "\n",
    "    def clear_history(self) -> None:\n",
    "        \"\"\"Clear the entire conversation history.\"\"\"\n",
    "        self.messages.clear()\n",
    "\n",
    "    def _handle_tool_use(self, response: Any) -> Any:\n",
    "        \"\"\"\n",
    "        Handle tool use requests from Claude's response.\n",
    "\n",
    "        Args:\n",
    "            response: The response object from Claude API.\n",
    "\n",
    "        Returns:\n",
    "            Any: The final response after tool processing.\n",
    "\n",
    "        Raises:\n",
    "            ValueError: If tool handler is not registered for the requested tool.\n",
    "            AttributeError: If response object doesn't have expected attributes.\n",
    "            IndexError: If response content is empty.\n",
    "        \"\"\"\n",
    "        # Extract tool use information from Claude's response\n",
    "        tool_use = response.content[-1]  # Get the last content item (tool use)\n",
    "        tool_name: str = tool_use.name\n",
    "        tool_input: Dict[str, Any] = tool_use.input\n",
    "\n",
    "        print(f\"Claude wants to use tool: {tool_name}\")\n",
    "\n",
    "        # Add Claude's tool use request to the conversation history\n",
    "        self.append_to_history({\"role\": \"assistant\", \"content\": response.content})\n",
    "\n",
    "        # Check if we have a handler for this tool\n",
    "        if tool_name not in self.tool_handlers:\n",
    "            raise ValueError(f\"No handler registered for tool: {tool_name}\")\n",
    "\n",
    "        # Execute the tool using the registered handler\n",
    "        tool_result: str = self.tool_handlers[tool_name].handle(tool_input)\n",
    "\n",
    "        # Construct the tool result message to send back to Claude\n",
    "        tool_response: Dict[str, Any] = {\n",
    "            \"role\": \"user\",\n",
    "            \"content\": [\n",
    "                {\n",
    "                    \"type\": \"tool_result\",\n",
    "                    \"tool_use_id\": tool_use.id,  # Match the tool use ID\n",
    "                    \"content\": tool_result\n",
    "                }\n",
    "            ]\n",
    "        }\n",
    "\n",
    "        # Add the tool result to the conversation history\n",
    "        self.append_to_history(tool_response)\n",
    "\n",
    "        # Send the tool result back to Claude for final processing\n",
    "        final_response = self.client.messages.create(\n",
    "            model=self.model,\n",
    "            messages=self.messages,\n",
    "            max_tokens=self.max_tokens,\n",
    "            tools=self.tools\n",
    "        )\n",
    "\n",
    "        return final_response\n",
    "\n",
    "    def invoke_chat(self, question: str, print_response: bool = True) -> str:\n",
    "        \"\"\"\n",
    "        Send a question to Claude and handle any tool use requests.\n",
    "\n",
    "        Args:\n",
    "            question: The question or message to send to Claude.\n",
    "            print_response: Whether to print the response to stdout.\n",
    "\n",
    "        Returns:\n",
    "            str: Claude's final response text.\n",
    "\n",
    "        Raises:\n",
    "            AttributeError: If the response object doesn't have expected attributes.\n",
    "            IndexError: If the response content list is empty.\n",
    "            ValueError: If a requested tool handler is not registered.\n",
    "        \"\"\"\n",
    "        # Add the user's question to conversation history\n",
    "        user_message = {\"role\": \"user\", \"content\": question}\n",
    "        self.append_to_history(user_message)\n",
    "\n",
    "        # Send the request to Claude with tool availability\n",
    "        response = self.client.messages.create(\n",
    "            model=self.model,\n",
    "            messages=self.messages,\n",
    "            max_tokens=self.max_tokens,\n",
    "            tools=self.tools\n",
    "        )\n",
    "\n",
    "        # Handle tool use if Claude requested it\n",
    "        if response.stop_reason == \"tool_use\":\n",
    "            response = self._handle_tool_use(response)\n",
    "        else:\n",
    "            # Claude answered directly without using tools\n",
    "            if print_response:\n",
    "                print(\"Claude answered directly without using tools\")\n",
    "\n",
    "        # Extract the final response text\n",
    "        final_text = response.content[0].text\n",
    "\n",
    "        # Add Claude's final response to history\n",
    "        self.append_to_history({\"role\": \"assistant\", \"content\": response.content})\n",
    "\n",
    "        if print_response:\n",
    "            print(\"Claude's response:\")\n",
    "            print(final_text)\n",
    "\n",
    "        return final_text\n",
    "\n",
    "    def add_system_message(self, system_content: str) -> None:\n",
    "        \"\"\"\n",
    "        Add a system message to the conversation history.\n",
    "\n",
    "        Args:\n",
    "            system_content: The system message content.\n",
    "        \"\"\"\n",
    "        system_message = {\"role\": \"system\", \"content\": system_content}\n",
    "        # Insert system message at the beginning if messages exist\n",
    "        if self.messages:\n",
    "            self.messages.insert(0, system_message)\n",
    "        else:\n",
    "            self.append_to_history(system_message)\n",
    "\n",
    "\n",
    "# Example usage function to demonstrate the class\n",
    "def create_chat_manager_example(client: Any, get_article_func: Callable[[str], str]) -> ClaudeChatManager:\n",
    "    \"\"\"\n",
    "    Create a configured ClaudeChatManager instance with article search capability.\n",
    "\n",
    "    Args:\n",
    "        client: The Claude API client instance.\n",
    "        get_article_func: Function to retrieve articles by search term.\n",
    "\n",
    "    Returns:\n",
    "        ClaudeChatManager: Configured chat manager with article search tool.\n",
    "    \"\"\"\n",
    "    # Define the article search tool (you'll need to provide this from your original code)\n",
    "    article_search_tool = {\n",
    "        \"name\": \"get_article\",\n",
    "        \"description\": \"Search for and retrieve Wikipedia articles\",\n",
    "        \"input_schema\": {\n",
    "            \"type\": \"object\",\n",
    "            \"properties\": {\n",
    "                \"search_term\": {\n",
    "                    \"type\": \"string\",\n",
    "                    \"description\": \"The term to search for in Wikipedia\"\n",
    "                }\n",
    "            },\n",
    "            \"required\": [\"search_term\"]\n",
    "        }\n",
    "    }\n",
    "\n",
    "    # Create the chat manager\n",
    "    chat_manager = ClaudeChatManager(\n",
    "        client=client,\n",
    "        tools=[article_search_tool]\n",
    "    )\n",
    "\n",
    "    # Register the article search handler\n",
    "    article_handler = ArticleSearchHandler(get_article_func)\n",
    "    chat_manager.register_tool_handler(\"get_article\", article_handler)\n",
    "\n",
    "    return chat_manager"
   ]
  },
  {
   "cell_type": "code",
   "execution_count": 29,
   "metadata": {
    "colab": {
     "base_uri": "https://localhost:8080/"
    },
    "executionInfo": {
     "elapsed": 18704,
     "status": "ok",
     "timestamp": 1751076092730,
     "user": {
      "displayName": "Yiqiao Yin",
      "userId": "16271867367914268422"
     },
     "user_tz": 240
    },
    "id": "oXhLMq8LREVF",
    "outputId": "5884c8ff-d184-46c8-d16d-de8d08cc98aa"
   },
   "outputs": [
    {
     "name": "stdout",
     "output_type": "stream",
     "text": [
      "Claude wants to use tool: get_article\n",
      "Claude's response:\n",
      "Based on the Wikipedia article, I can provide you with a comprehensive explanation of quantum computing:\n",
      "\n",
      "## What is Quantum Computing?\n",
      "\n",
      "Quantum computing is a revolutionary computational paradigm that exploits quantum mechanical phenomena to process information in fundamentally different ways than classical computers. Instead of using traditional bits that can only be in states of 0 or 1, quantum computers use **qubits** (quantum bits) that can exist in a **superposition** of both states simultaneously.\n",
      "\n",
      "## Key Principles\n",
      "\n",
      "### 1. **Qubits and Superposition**\n",
      "- While classical bits are either 0 or 1, qubits can exist in a combination of both states at once\n",
      "- This is represented mathematically as α|0⟩ + β|1⟩, where α and β are probability amplitudes\n",
      "- This allows quantum computers to process multiple possibilities simultaneously\n",
      "\n",
      "### 2. **Quantum Entanglement**\n",
      "- Qubits can be \"entangled,\" meaning they become correlated in ways that measuring one instantly affects the others\n",
      "- This creates powerful computational connections between qubits that don't exist in classical systems\n",
      "\n",
      "### 3. **Quantum Interference**\n",
      "- Quantum algorithms use interference effects to amplify correct answers and cancel out wrong ones\n",
      "- This is key to achieving quantum speedups over classical algorithms\n",
      "\n",
      "## How It Works\n",
      "\n",
      "Quantum computers operate by:\n",
      "1. Preparing qubits in superposition states\n",
      "2. Applying quantum logic gates (like classical logic gates but for quantum states)\n",
      "3. Using quantum algorithms that leverage superposition and entanglement\n",
      "4. Measuring the final quantum state to get classical output\n",
      "\n",
      "## Current State and Challenges\n",
      "\n",
      "### **Advantages:**\n",
      "- Potential exponential speedup for certain problems (like factoring large numbers with Shor's algorithm)\n",
      "- Excellent for simulating quantum systems in chemistry and physics\n",
      "- Promising for optimization problems and machine learning\n",
      "\n",
      "### **Current Limitations:**\n",
      "- **Quantum decoherence**: Qubits are extremely fragile and lose their quantum properties quickly\n",
      "- **Error rates**: Current quantum computers have high error rates (around 5% for large machines)\n",
      "- **Scale**: Largest current systems have around 2,000 qubits, but need millions for practical applications\n",
      "- **Specialized applications**: Not yet better than classical computers for most real-world problems\n",
      "\n",
      "## Potential Applications\n",
      "\n",
      "1. **Cryptography**: Could break current encryption methods but also enable ultra-secure quantum communication\n",
      "2. **Drug discovery**: Modeling molecular interactions for pharmaceutical development\n",
      "3. **Financial modeling**: Portfolio optimization and risk analysis\n",
      "4. **Artificial intelligence**: Potential speedups for certain machine learning algorithms\n",
      "5. **Climate modeling**: Simulating complex environmental systems\n",
      "\n",
      "## The Reality Check\n",
      "\n",
      "As of 2023, quantum computers are still primarily experimental. While they've achieved \"quantum supremacy\" on specific benchmark problems, they haven't yet demonstrated practical advantages for real-world applications. Current quantum computers are described as being \"for now, absolutely nothing\" in terms of practical utility, though this is expected to change as the technology matures.\n",
      "\n",
      "The field is rapidly evolving, with major tech companies like Google, IBM, and others investing heavily in development, but practical, fault-tolerant quantum computers that outperform classical computers on useful tasks remain years away.\n"
     ]
    }
   ],
   "source": [
    "# Create the chat manager\n",
    "chat_manager = create_chat_manager_example(client, get_article)\n",
    "\n",
    "# Have a conversation\n",
    "response = chat_manager.invoke_chat(\"What is quantum computing?\")\n",
    "\n",
    "# Get conversation history\n",
    "history = chat_manager.get_history()\n",
    "\n",
    "# Add system instructions\n",
    "chat_manager.add_system_message(\"Be concise in your responses\")"
   ]
  },
  {
   "cell_type": "code",
   "execution_count": 30,
   "metadata": {
    "executionInfo": {
     "elapsed": 13,
     "status": "ok",
     "timestamp": 1751077997278,
     "user": {
      "displayName": "Yiqiao Yin",
      "userId": "16271867367914268422"
     },
     "user_tz": 240
    },
    "id": "0LVBsZ5eRHGN"
   },
   "outputs": [],
   "source": [
    "\"\"\"\n",
    "Module for managing conversations with Claude API using multiple tools.\n",
    "\n",
    "This module provides a class-based interface for interacting with Claude's API,\n",
    "maintaining conversation history, and handling multiple tool use requests dynamically.\n",
    "Supports article search and web search tools with extensible architecture.\n",
    "\"\"\"\n",
    "\n",
    "from typing import List, Dict, Any, Optional, Callable\n",
    "from abc import ABC, abstractmethod\n",
    "\n",
    "\n",
    "class ToolHandler(ABC):\n",
    "    \"\"\"Abstract base class for tool handlers.\"\"\"\n",
    "\n",
    "    @abstractmethod\n",
    "    def handle(self, tool_input: Dict[str, Any]) -> str:\n",
    "        \"\"\"\n",
    "        Handle the tool execution.\n",
    "\n",
    "        Args:\n",
    "            tool_input: The input parameters for the tool.\n",
    "\n",
    "        Returns:\n",
    "            str: The result of the tool execution.\n",
    "        \"\"\"\n",
    "\n",
    "\n",
    "class ArticleSearchHandler(ToolHandler):\n",
    "    \"\"\"Handler for article search tool.\"\"\"\n",
    "\n",
    "    def __init__(self, get_article_func: Callable[[str], str]):\n",
    "        \"\"\"\n",
    "        Initialize the article search handler.\n",
    "\n",
    "        Args:\n",
    "            get_article_func: Function to retrieve articles by search term.\n",
    "        \"\"\"\n",
    "        self.get_article_func = get_article_func\n",
    "\n",
    "    def handle(self, tool_input: Dict[str, Any]) -> str:\n",
    "        \"\"\"\n",
    "        Handle article search requests.\n",
    "\n",
    "        Args:\n",
    "            tool_input: Dictionary containing 'search_term' key.\n",
    "\n",
    "        Returns:\n",
    "            str: The retrieved article content.\n",
    "\n",
    "        Raises:\n",
    "            KeyError: If 'search_term' is missing from tool_input.\n",
    "        \"\"\"\n",
    "        search_term = tool_input[\"search_term\"]\n",
    "        print(f\"Searching for article: {search_term}\")\n",
    "        return self.get_article_func(search_term)\n",
    "\n",
    "\n",
    "class WebSearchHandler(ToolHandler):\n",
    "    \"\"\"Handler for web search tool.\"\"\"\n",
    "\n",
    "    def __init__(self, web_search_func: Callable[[str], str]):\n",
    "        \"\"\"\n",
    "        Initialize the web search handler.\n",
    "\n",
    "        Args:\n",
    "            web_search_func: Function to perform web searches by topic.\n",
    "        \"\"\"\n",
    "        self.web_search_func = web_search_func\n",
    "\n",
    "    def handle(self, tool_input: Dict[str, Any]) -> str:\n",
    "        \"\"\"\n",
    "        Handle web search requests.\n",
    "\n",
    "        Args:\n",
    "            tool_input: Dictionary containing 'topic' key.\n",
    "\n",
    "        Returns:\n",
    "            str: The web search results.\n",
    "\n",
    "        Raises:\n",
    "            KeyError: If 'topic' is missing from tool_input.\n",
    "        \"\"\"\n",
    "        topic = tool_input[\"topic\"]\n",
    "        print(f\"Searching the web for: {topic}\")\n",
    "        return self.web_search_func(topic)\n",
    "\n",
    "\n",
    "class MultiToolChatManager:\n",
    "    \"\"\"\n",
    "    Manager class for handling conversations with Claude API using multiple tools.\n",
    "\n",
    "    This class maintains conversation history, handles multiple tool use requests,\n",
    "    and provides a clean interface for interacting with Claude's API with support\n",
    "    for article search, web search, and other extensible tools.\n",
    "    \"\"\"\n",
    "\n",
    "    def __init__(\n",
    "        self,\n",
    "        client: Any,\n",
    "        model: str = \"claude-sonnet-4-20250514\",\n",
    "        max_tokens: int = 1000,\n",
    "        tools: Optional[List[Dict[str, Any]]] = None\n",
    "    ):\n",
    "        \"\"\"\n",
    "        Initialize the multi-tool chat manager.\n",
    "\n",
    "        Args:\n",
    "            client: The Claude API client instance.\n",
    "            model: The Claude model to use for conversations.\n",
    "            max_tokens: Maximum tokens for each API response.\n",
    "            tools: List of tool definitions available to Claude.\n",
    "        \"\"\"\n",
    "        self.client = client\n",
    "        self.model = model\n",
    "        self.max_tokens = max_tokens\n",
    "        self.tools = tools or []\n",
    "        self.messages: List[Dict[str, Any]] = []\n",
    "        self.tool_handlers: Dict[str, ToolHandler] = {}\n",
    "        self._tool_call_count = 0  # Track number of tool calls for debugging\n",
    "\n",
    "    def register_tool_handler(self, tool_name: str, handler: ToolHandler) -> None:\n",
    "        \"\"\"\n",
    "        Register a handler for a specific tool.\n",
    "\n",
    "        Args:\n",
    "            tool_name: The name of the tool to handle.\n",
    "            handler: The ToolHandler instance to process this tool.\n",
    "        \"\"\"\n",
    "        self.tool_handlers[tool_name] = handler\n",
    "        print(f\"Registered handler for tool: {tool_name}\")\n",
    "\n",
    "    def get_registered_tools(self) -> List[str]:\n",
    "        \"\"\"\n",
    "        Get list of all registered tool names.\n",
    "\n",
    "        Returns:\n",
    "            List[str]: Names of all registered tools.\n",
    "        \"\"\"\n",
    "        return list(self.tool_handlers.keys())\n",
    "\n",
    "    def get_history(self) -> List[Dict[str, Any]]:\n",
    "        \"\"\"\n",
    "        Get the complete conversation history.\n",
    "\n",
    "        Returns:\n",
    "            List[Dict[str, Any]]: A copy of the current conversation history.\n",
    "        \"\"\"\n",
    "        return self.messages.copy()\n",
    "\n",
    "    def append_to_history(self, message: Dict[str, Any]) -> None:\n",
    "        \"\"\"\n",
    "        Append a message to the conversation history.\n",
    "\n",
    "        Args:\n",
    "            message: The message dictionary to add to history.\n",
    "\n",
    "        Raises:\n",
    "            ValueError: If the message doesn't have required 'role' key.\n",
    "        \"\"\"\n",
    "        if \"role\" not in message:\n",
    "            raise ValueError(\"Message must contain 'role' key\")\n",
    "\n",
    "        self.messages.append(message)\n",
    "\n",
    "    def clear_history(self) -> None:\n",
    "        \"\"\"Clear the entire conversation history and reset tool call counter.\"\"\"\n",
    "        self.messages.clear()\n",
    "        self._tool_call_count = 0\n",
    "        print(\"Conversation history cleared\")\n",
    "\n",
    "    def get_tool_call_count(self) -> int:\n",
    "        \"\"\"\n",
    "        Get the number of tool calls made in the current conversation.\n",
    "\n",
    "        Returns:\n",
    "            int: Number of tool calls made.\n",
    "        \"\"\"\n",
    "        return self._tool_call_count\n",
    "\n",
    "    def _handle_tool_use(self, response: Any) -> Any:\n",
    "        \"\"\"\n",
    "        Handle tool use requests from Claude's response.\n",
    "\n",
    "        Args:\n",
    "            response: The response object from Claude API.\n",
    "\n",
    "        Returns:\n",
    "            Any: The final response after tool processing.\n",
    "\n",
    "        Raises:\n",
    "            ValueError: If tool handler is not registered for the requested tool.\n",
    "            AttributeError: If response object doesn't have expected attributes.\n",
    "            IndexError: If response content is empty.\n",
    "        \"\"\"\n",
    "        # Extract tool use information from Claude's response\n",
    "        tool_use = response.content[-1]  # Get the last content item (tool use)\n",
    "        tool_name: str = tool_use.name\n",
    "        tool_input: Dict[str, Any] = tool_use.input\n",
    "\n",
    "        # Increment tool call counter\n",
    "        self._tool_call_count += 1\n",
    "\n",
    "        print(f\"Claude wants to use tool: {tool_name} (Call #{self._tool_call_count})\")\n",
    "\n",
    "        # Add Claude's tool use request to the conversation history\n",
    "        self.append_to_history({\"role\": \"assistant\", \"content\": response.content})\n",
    "\n",
    "        # Check if we have a handler for this tool\n",
    "        if tool_name not in self.tool_handlers:\n",
    "            available_tools = \", \".join(self.get_registered_tools())\n",
    "            raise ValueError(\n",
    "                f\"No handler registered for tool: {tool_name}. \"\n",
    "                f\"Available tools: {available_tools}\"\n",
    "            )\n",
    "\n",
    "        # Execute the tool using the registered handler\n",
    "        try:\n",
    "            tool_result: str = self.tool_handlers[tool_name].handle(tool_input)\n",
    "            print(f\"Tool {tool_name} executed successfully\")\n",
    "        except Exception as e:\n",
    "            # Handle tool execution errors gracefully\n",
    "            tool_result = f\"Error executing tool {tool_name}: {str(e)}\"\n",
    "            print(f\"Error in tool {tool_name}: {str(e)}\")\n",
    "\n",
    "        # Construct the tool result message to send back to Claude\n",
    "        tool_response: Dict[str, Any] = {\n",
    "            \"role\": \"user\",\n",
    "            \"content\": [\n",
    "                {\n",
    "                    \"type\": \"tool_result\",\n",
    "                    \"tool_use_id\": tool_use.id,  # Match the tool use ID\n",
    "                    \"content\": tool_result\n",
    "                }\n",
    "            ]\n",
    "        }\n",
    "\n",
    "        # Add the tool result to the conversation history\n",
    "        self.append_to_history(tool_response)\n",
    "\n",
    "        # Send the tool result back to Claude for final processing\n",
    "        final_response = self.client.messages.create(\n",
    "            model=self.model,\n",
    "            messages=self.messages,\n",
    "            max_tokens=self.max_tokens,\n",
    "            tools=self.tools\n",
    "        )\n",
    "\n",
    "        return final_response\n",
    "\n",
    "    def invoke_chat(self, question: str, print_response: bool = True) -> str:\n",
    "        \"\"\"\n",
    "        Send a question to Claude and handle any tool use requests.\n",
    "\n",
    "        This method supports recursive tool calls - Claude can use multiple tools\n",
    "        in sequence to answer a single question.\n",
    "\n",
    "        Args:\n",
    "            question: The question or message to send to Claude.\n",
    "            print_response: Whether to print the response to stdout.\n",
    "\n",
    "        Returns:\n",
    "            str: Claude's final response text.\n",
    "\n",
    "        Raises:\n",
    "            AttributeError: If the response object doesn't have expected attributes.\n",
    "            IndexError: If the response content list is empty.\n",
    "            ValueError: If a requested tool handler is not registered.\n",
    "        \"\"\"\n",
    "        # Add the user's question to conversation history\n",
    "        user_message = {\"role\": \"user\", \"content\": question}\n",
    "        self.append_to_history(user_message)\n",
    "\n",
    "        # Send the request to Claude with tool availability\n",
    "        response = self.client.messages.create(\n",
    "            model=self.model,\n",
    "            messages=self.messages,\n",
    "            max_tokens=self.max_tokens,\n",
    "            tools=self.tools\n",
    "        )\n",
    "\n",
    "        # Handle tool use if Claude requested it (supports multiple tool calls)\n",
    "        max_tool_iterations = 5  # Prevent infinite tool calling loops\n",
    "        iteration_count = 0\n",
    "\n",
    "        while response.stop_reason == \"tool_use\" and iteration_count < max_tool_iterations:\n",
    "            response = self._handle_tool_use(response)\n",
    "            iteration_count += 1\n",
    "\n",
    "            if iteration_count >= max_tool_iterations:\n",
    "                print(f\"Warning: Reached maximum tool iterations ({max_tool_iterations})\")\n",
    "                break\n",
    "\n",
    "        if response.stop_reason != \"tool_use\":\n",
    "            # Claude provided a final answer\n",
    "            if print_response and iteration_count == 0:\n",
    "                print(\"Claude answered directly without using tools\")\n",
    "            elif print_response and iteration_count > 0:\n",
    "                print(f\"Claude completed answer after {iteration_count} tool call(s)\")\n",
    "\n",
    "        # Extract the final response text\n",
    "        final_text = response.content[0].text\n",
    "\n",
    "        # Add Claude's final response to history\n",
    "        self.append_to_history({\"role\": \"assistant\", \"content\": response.content})\n",
    "\n",
    "        if print_response:\n",
    "            print(\"Claude's response:\")\n",
    "            print(final_text)\n",
    "\n",
    "        return final_text\n",
    "\n",
    "    def add_system_message(self, system_content: str) -> None:\n",
    "        \"\"\"\n",
    "        Add a system message to the conversation history.\n",
    "\n",
    "        Args:\n",
    "            system_content: The system message content.\n",
    "        \"\"\"\n",
    "        system_message = {\"role\": \"system\", \"content\": system_content}\n",
    "        # Insert system message at the beginning if messages exist\n",
    "        if self.messages:\n",
    "            self.messages.insert(0, system_message)\n",
    "        else:\n",
    "            self.append_to_history(system_message)\n",
    "        print(\"System message added to conversation\")\n",
    "\n",
    "    def remove_tool(self, tool_name: str) -> bool:\n",
    "        \"\"\"\n",
    "        Remove a tool handler and its definition.\n",
    "\n",
    "        Args:\n",
    "            tool_name: The name of the tool to remove.\n",
    "\n",
    "        Returns:\n",
    "            bool: True if tool was removed, False if tool was not found.\n",
    "        \"\"\"\n",
    "        if tool_name in self.tool_handlers:\n",
    "            del self.tool_handlers[tool_name]\n",
    "            # Remove from tools list\n",
    "            self.tools = [tool for tool in self.tools if tool.get(\"name\") != tool_name]\n",
    "            print(f\"Removed tool: {tool_name}\")\n",
    "            return True\n",
    "        return False\n",
    "\n",
    "    def add_tool_definition(self, tool_definition: Dict[str, Any]) -> None:\n",
    "        \"\"\"\n",
    "        Add a new tool definition to the available tools.\n",
    "\n",
    "        Args:\n",
    "            tool_definition: The tool definition dictionary.\n",
    "\n",
    "        Raises:\n",
    "            ValueError: If tool definition is missing required fields.\n",
    "        \"\"\"\n",
    "        required_fields = [\"name\", \"description\", \"input_schema\"]\n",
    "        for field in required_fields:\n",
    "            if field not in tool_definition:\n",
    "                raise ValueError(f\"Tool definition missing required field: {field}\")\n",
    "\n",
    "        # Check if tool already exists and replace it\n",
    "        tool_name = tool_definition[\"name\"]\n",
    "        self.tools = [tool for tool in self.tools if tool.get(\"name\") != tool_name]\n",
    "        self.tools.append(tool_definition)\n",
    "        print(f\"Added tool definition: {tool_name}\")\n",
    "\n",
    "\n",
    "# Predefined tool definitions\n",
    "ARTICLE_SEARCH_TOOL = {\n",
    "    \"name\": \"get_article\",\n",
    "    \"description\": \"Search for and retrieve Wikipedia articles\",\n",
    "    \"input_schema\": {\n",
    "        \"type\": \"object\",\n",
    "        \"properties\": {\n",
    "            \"search_term\": {\n",
    "                \"type\": \"string\",\n",
    "                \"description\": \"The term to search for in Wikipedia\"\n",
    "            }\n",
    "        },\n",
    "        \"required\": [\"search_term\"]\n",
    "    }\n",
    "}\n",
    "\n",
    "WEB_SEARCH_TOOL = {\n",
    "    \"name\": \"web_search\",\n",
    "    \"description\": \"A tool to retrieve up to date information on a given topic by searching the web\",\n",
    "    \"input_schema\": {\n",
    "        \"type\": \"object\",\n",
    "        \"properties\": {\n",
    "            \"topic\": {\n",
    "                \"type\": \"string\",\n",
    "                \"description\": \"The topic to search the web for\"\n",
    "            },\n",
    "        },\n",
    "        \"required\": [\"topic\"]\n",
    "    }\n",
    "}\n",
    "\n",
    "\n",
    "def create_multi_tool_chat_manager(\n",
    "    client: Any,\n",
    "    get_article_func: Optional[Callable[[str], str]] = None,\n",
    "    web_search_func: Optional[Callable[[str], str]] = None,\n",
    "    include_article_search: bool = True,\n",
    "    include_web_search: bool = True\n",
    ") -> MultiToolChatManager:\n",
    "    \"\"\"\n",
    "    Create a configured MultiToolChatManager with multiple tools.\n",
    "\n",
    "    Args:\n",
    "        client: The Claude API client instance.\n",
    "        get_article_func: Function to retrieve articles by search term.\n",
    "        web_search_func: Function to perform web searches by topic.\n",
    "        include_article_search: Whether to include article search tool.\n",
    "        include_web_search: Whether to include web search tool.\n",
    "\n",
    "    Returns:\n",
    "        MultiToolChatManager: Configured chat manager with requested tools.\n",
    "\n",
    "    Raises:\n",
    "        ValueError: If a tool is requested but its function is not provided.\n",
    "    \"\"\"\n",
    "    # Prepare tools list\n",
    "    tools = []\n",
    "\n",
    "    if include_article_search:\n",
    "        if get_article_func is None:\n",
    "            raise ValueError(\"get_article_func must be provided when include_article_search=True\")\n",
    "        tools.append(ARTICLE_SEARCH_TOOL)\n",
    "\n",
    "    if include_web_search:\n",
    "        if web_search_func is None:\n",
    "            raise ValueError(\"web_search_func must be provided when include_web_search=True\")\n",
    "        tools.append(WEB_SEARCH_TOOL)\n",
    "\n",
    "    # Create the chat manager\n",
    "    chat_manager = MultiToolChatManager(\n",
    "        client=client,\n",
    "        tools=tools\n",
    "    )\n",
    "\n",
    "    # Register tool handlers\n",
    "    if include_article_search and get_article_func:\n",
    "        article_handler = ArticleSearchHandler(get_article_func)\n",
    "        chat_manager.register_tool_handler(\"get_article\", article_handler)\n",
    "\n",
    "    if include_web_search and web_search_func:\n",
    "        web_handler = WebSearchHandler(web_search_func)\n",
    "        chat_manager.register_tool_handler(\"web_search\", web_handler)\n",
    "\n",
    "    print(f\"Multi-tool chat manager created with {len(tools)} tool(s)\")\n",
    "    return chat_manager\n",
    "\n",
    "\n",
    "def create_article_only_chat_manager(\n",
    "    client: Any,\n",
    "    get_article_func: Callable[[str], str]\n",
    ") -> MultiToolChatManager:\n",
    "    \"\"\"\n",
    "    Create a chat manager with only article search capability.\n",
    "\n",
    "    Args:\n",
    "        client: The Claude API client instance.\n",
    "        get_article_func: Function to retrieve articles by search term.\n",
    "\n",
    "    Returns:\n",
    "        MultiToolChatManager: Chat manager with article search tool only.\n",
    "    \"\"\"\n",
    "    return create_multi_tool_chat_manager(\n",
    "        client=client,\n",
    "        get_article_func=get_article_func,\n",
    "        include_web_search=False\n",
    "    )\n",
    "\n",
    "\n",
    "def create_web_only_chat_manager(\n",
    "    client: Any,\n",
    "    web_search_func: Callable[[str], str]\n",
    ") -> MultiToolChatManager:\n",
    "    \"\"\"\n",
    "    Create a chat manager with only web search capability.\n",
    "\n",
    "    Args:\n",
    "        client: The Claude API client instance.\n",
    "        web_search_func: Function to perform web searches by topic.\n",
    "\n",
    "    Returns:\n",
    "        MultiToolChatManager: Chat manager with web search tool only.\n",
    "    \"\"\"\n",
    "    return create_multi_tool_chat_manager(\n",
    "        client=client,\n",
    "        web_search_func=web_search_func,\n",
    "        include_article_search=False\n",
    "    )"
   ]
  },
  {
   "cell_type": "markdown",
   "metadata": {
    "id": "n_U4G7R-bxvY"
   },
   "source": [
    "Define custom tool: `get_article` a function to search items from wikipedia"
   ]
  },
  {
   "cell_type": "code",
   "execution_count": 35,
   "metadata": {
    "executionInfo": {
     "elapsed": 14,
     "status": "ok",
     "timestamp": 1751078551154,
     "user": {
      "displayName": "Yiqiao Yin",
      "userId": "16271867367914268422"
     },
     "user_tz": 240
    },
    "id": "B7eLMpK5ZH9I"
   },
   "outputs": [],
   "source": [
    "import wikipedia\n",
    "\n",
    "def get_article(search_term):\n",
    "    results = wikipedia.search(search_term)\n",
    "    first_result = results[0]\n",
    "    page = wikipedia.page(first_result, auto_suggest=False)\n",
    "    return page.content"
   ]
  },
  {
   "cell_type": "code",
   "execution_count": 36,
   "metadata": {
    "colab": {
     "base_uri": "https://localhost:8080/"
    },
    "executionInfo": {
     "elapsed": 7865,
     "status": "ok",
     "timestamp": 1751078568014,
     "user": {
      "displayName": "Yiqiao Yin",
      "userId": "16271867367914268422"
     },
     "user_tz": 240
    },
    "id": "snwyz1gKakU0",
    "outputId": "fa50150c-ffc9-4f9c-f332-44f1fa6e562c"
   },
   "outputs": [
    {
     "name": "stdout",
     "output_type": "stream",
     "text": [
      "Collecting serpapi\n",
      "  Downloading serpapi-0.1.5-py2.py3-none-any.whl.metadata (10 kB)\n",
      "Collecting google-search-results\n",
      "  Downloading google_search_results-2.4.2.tar.gz (18 kB)\n",
      "  Preparing metadata (setup.py) ... \u001b[?25l\u001b[?25hdone\n",
      "Requirement already satisfied: requests in /usr/local/lib/python3.11/dist-packages (from serpapi) (2.32.3)\n",
      "Requirement already satisfied: charset-normalizer<4,>=2 in /usr/local/lib/python3.11/dist-packages (from requests->serpapi) (3.4.2)\n",
      "Requirement already satisfied: idna<4,>=2.5 in /usr/local/lib/python3.11/dist-packages (from requests->serpapi) (3.10)\n",
      "Requirement already satisfied: urllib3<3,>=1.21.1 in /usr/local/lib/python3.11/dist-packages (from requests->serpapi) (2.4.0)\n",
      "Requirement already satisfied: certifi>=2017.4.17 in /usr/local/lib/python3.11/dist-packages (from requests->serpapi) (2025.6.15)\n",
      "Downloading serpapi-0.1.5-py2.py3-none-any.whl (10 kB)\n",
      "Building wheels for collected packages: google-search-results\n",
      "  Building wheel for google-search-results (setup.py) ... \u001b[?25l\u001b[?25hdone\n",
      "  Created wheel for google-search-results: filename=google_search_results-2.4.2-py3-none-any.whl size=32010 sha256=20e8996851d5b8a2b7daab8753b3c4ab2a35342d6b3e162aafede1f77b1a7c18\n",
      "  Stored in directory: /root/.cache/pip/wheels/6e/42/3e/aeb691b02cb7175ec70e2da04b5658d4739d2b41e5f73cd06f\n",
      "Successfully built google-search-results\n",
      "Installing collected packages: serpapi, google-search-results\n",
      "Successfully installed google-search-results-2.4.2 serpapi-0.1.5\n"
     ]
    }
   ],
   "source": [
    "pip install serpapi google-search-results"
   ]
  },
  {
   "cell_type": "markdown",
   "metadata": {
    "id": "Sksn1eqjb2rq"
   },
   "source": [
    "Define custom tool: `search_serpapi` a function to search the internet"
   ]
  },
  {
   "cell_type": "code",
   "execution_count": 37,
   "metadata": {
    "executionInfo": {
     "elapsed": 1543,
     "status": "ok",
     "timestamp": 1751078569568,
     "user": {
      "displayName": "Yiqiao Yin",
      "userId": "16271867367914268422"
     },
     "user_tz": 240
    },
    "id": "ZnTV_zCUamUL"
   },
   "outputs": [],
   "source": [
    "from google.colab import userdata"
   ]
  },
  {
   "cell_type": "code",
   "execution_count": 47,
   "metadata": {
    "executionInfo": {
     "elapsed": 13,
     "status": "ok",
     "timestamp": 1751078824005,
     "user": {
      "displayName": "Yiqiao Yin",
      "userId": "16271867367914268422"
     },
     "user_tz": 240
    },
    "id": "7Uc-x6UlarZx"
   },
   "outputs": [],
   "source": [
    "from serpapi import GoogleSearch\n",
    "from typing import List, Dict, Any\n",
    "\n",
    "def search_serpapi(query: str) -> List[Dict[str, Any]]:\n",
    "    \"\"\"\n",
    "    Search using SerpAPI for the given query and return the results.\n",
    "\n",
    "    :param query: The search query string.\n",
    "    :return: A list of search results.\n",
    "    :raises Exception: For any errors during the request.\n",
    "    \"\"\"\n",
    "    SERPAPI_API_KEY = userdata.get('SERPAPI_API_KEY')\n",
    "    try:\n",
    "        search = GoogleSearch({\n",
    "            \"q\": query,\n",
    "            \"location\": \"Austin, Texas, United States\",\n",
    "            \"api_key\": SERPAPI_API_KEY\n",
    "        })\n",
    "        raw_results = search.get_dict()\n",
    "        results = raw_results.get(\"organic_results\", [])\n",
    "        snippet = ' '.join([results[i]['snippet'] for i in range(len(results))])\n",
    "        return snippet\n",
    "    except Exception as e:\n",
    "        raise Exception(f\"An error occurred: {e}\")"
   ]
  },
  {
   "cell_type": "code",
   "execution_count": 48,
   "metadata": {
    "colab": {
     "base_uri": "https://localhost:8080/",
     "height": 70
    },
    "executionInfo": {
     "elapsed": 330,
     "status": "ok",
     "timestamp": 1751078828998,
     "user": {
      "displayName": "Yiqiao Yin",
      "userId": "16271867367914268422"
     },
     "user_tz": 240
    },
    "id": "1NlXDqiMbJH2",
    "outputId": "2248d497-6d59-4636-f953-ec8d42ef42c1"
   },
   "outputs": [
    {
     "data": {
      "application/vnd.google.colaboratory.intrinsic+json": {
       "type": "string"
      },
      "text/plain": [
       "'Model X All-Wheel Drive starts at $91,630. Price includes Destination and Order Fees but exclude taxes and other fees. Subject to change. Vehicle shown has ... Tesla, Inc is an American multinational automotive and clean energy company. Headquartered in Austin, Texas, it designs, manufactures and sells battery ... Tesla, Inc. designs, develops, manufactures, leases, and sells electric vehicles, and energy generation and storage systems in the United States, China, ...'"
      ]
     },
     "execution_count": 48,
     "metadata": {},
     "output_type": "execute_result"
    }
   ],
   "source": [
    "search_serpapi(\"tesla\")"
   ]
  },
  {
   "cell_type": "code",
   "execution_count": 49,
   "metadata": {
    "colab": {
     "base_uri": "https://localhost:8080/"
    },
    "executionInfo": {
     "elapsed": 10377,
     "status": "ok",
     "timestamp": 1751078849778,
     "user": {
      "displayName": "Yiqiao Yin",
      "userId": "16271867367914268422"
     },
     "user_tz": 240
    },
    "id": "RazMjSp7Ycn6",
    "outputId": "647a7344-10e9-4204-d96f-6d4f7f3c789f"
   },
   "outputs": [
    {
     "name": "stdout",
     "output_type": "stream",
     "text": [
      "Registered handler for tool: get_article\n",
      "Registered handler for tool: web_search\n",
      "Multi-tool chat manager created with 2 tool(s)\n",
      "Claude wants to use tool: web_search (Call #1)\n",
      "Searching the web for: Tesla latest news\n",
      "Tool web_search executed successfully\n",
      "Claude completed answer after 1 tool call(s)\n",
      "Claude's response:\n",
      "Based on the latest search results, here are some key recent developments with Tesla:\n",
      "\n",
      "## Recent Tesla News Highlights:\n",
      "\n",
      "**New Product Launches:**\n",
      "- Tesla is launching a new **Model 3 Performance** - described as a highly differentiated performance trim using Tesla's latest manufacturing and engineering capabilities\n",
      "\n",
      "**Autonomous Driving Progress:**\n",
      "- A Tesla vehicle reportedly **delivered itself to a customer autonomously**, as confirmed by Elon Musk\n",
      "- Tesla's **Robotaxi program** is sending out more invites for next phases, though first impressions have been mixed due to some operational mistakes\n",
      "- The company has hired **Henry Kuang**, former autonomy lead at GM's Cruise, as their new AI Director to boost robotaxi ambitions\n",
      "\n",
      "**Safety & Recalls:**\n",
      "- Tesla issued a **physical recall** for some Model 3 and Model Y vehicles over seat fastener issues\n",
      "\n",
      "**Infrastructure Updates:**\n",
      "- Tesla is testing new solutions to address rare issues at **Supercharger stations** through an internal pilot program\n",
      "\n",
      "**Other News:**\n",
      "- There was an incident involving attacks at a Tesla facility and GOP headquarters in New Mexico, with a suspect arrested\n",
      "- Investment discussions continue around Tesla vs. competitors like Uber\n",
      "\n",
      "The autonomous driving developments and robotaxi progress appear to be major focus areas for Tesla currently, along with continued product refinements and infrastructure improvements.\n",
      "Tools used: 1\n",
      "Available tools: ['get_article', 'web_search']\n"
     ]
    }
   ],
   "source": [
    "# Create manager with both tools\n",
    "chat_manager = create_multi_tool_chat_manager(\n",
    "    client=client,\n",
    "    get_article_func=get_article,\n",
    "    web_search_func=search_serpapi\n",
    ")\n",
    "\n",
    "# Use the manager\n",
    "response = chat_manager.invoke_chat(\"What's the latest news about Tesla?\")\n",
    "\n",
    "# Check what tools were used\n",
    "print(f\"Tools used: {chat_manager.get_tool_call_count()}\")\n",
    "print(f\"Available tools: {chat_manager.get_registered_tools()}\")"
   ]
  },
  {
   "cell_type": "code",
   "execution_count": null,
   "metadata": {
    "id": "8ISfenAmZQIm"
   },
   "outputs": [],
   "source": []
  }
 ],
 "metadata": {
  "colab": {
   "authorship_tag": "ABX9TyNGoQ6vNhmoHDMFD0ZLDxvQ",
   "provenance": []
  },
  "kernelspec": {
   "display_name": "Python 3",
   "name": "python3"
  },
  "language_info": {
   "name": "python"
  }
 },
 "nbformat": 4,
 "nbformat_minor": 0
}
